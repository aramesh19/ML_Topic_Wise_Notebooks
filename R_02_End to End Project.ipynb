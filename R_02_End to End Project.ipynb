{
 "cells": [
  {
   "cell_type": "code",
   "execution_count": 189,
   "id": "ff9bc8e5",
   "metadata": {},
   "outputs": [
    {
     "data": {
      "text/html": [
       "<div>\n",
       "<style scoped>\n",
       "    .dataframe tbody tr th:only-of-type {\n",
       "        vertical-align: middle;\n",
       "    }\n",
       "\n",
       "    .dataframe tbody tr th {\n",
       "        vertical-align: top;\n",
       "    }\n",
       "\n",
       "    .dataframe thead th {\n",
       "        text-align: right;\n",
       "    }\n",
       "</style>\n",
       "<table border=\"1\" class=\"dataframe\">\n",
       "  <thead>\n",
       "    <tr style=\"text-align: right;\">\n",
       "      <th></th>\n",
       "      <th>longitude</th>\n",
       "      <th>latitude</th>\n",
       "      <th>housing_median_age</th>\n",
       "      <th>total_rooms</th>\n",
       "      <th>total_bedrooms</th>\n",
       "      <th>population</th>\n",
       "      <th>households</th>\n",
       "      <th>median_income</th>\n",
       "      <th>median_house_value</th>\n",
       "      <th>ocean_proximity</th>\n",
       "    </tr>\n",
       "  </thead>\n",
       "  <tbody>\n",
       "    <tr>\n",
       "      <th>0</th>\n",
       "      <td>-122.23</td>\n",
       "      <td>37.88</td>\n",
       "      <td>41.0</td>\n",
       "      <td>880.0</td>\n",
       "      <td>129.0</td>\n",
       "      <td>322.0</td>\n",
       "      <td>126.0</td>\n",
       "      <td>8.3252</td>\n",
       "      <td>452600.0</td>\n",
       "      <td>NEAR BAY</td>\n",
       "    </tr>\n",
       "    <tr>\n",
       "      <th>1</th>\n",
       "      <td>-122.22</td>\n",
       "      <td>37.86</td>\n",
       "      <td>21.0</td>\n",
       "      <td>7099.0</td>\n",
       "      <td>1106.0</td>\n",
       "      <td>2401.0</td>\n",
       "      <td>1138.0</td>\n",
       "      <td>8.3014</td>\n",
       "      <td>358500.0</td>\n",
       "      <td>NEAR BAY</td>\n",
       "    </tr>\n",
       "    <tr>\n",
       "      <th>2</th>\n",
       "      <td>-122.24</td>\n",
       "      <td>37.85</td>\n",
       "      <td>52.0</td>\n",
       "      <td>1467.0</td>\n",
       "      <td>190.0</td>\n",
       "      <td>496.0</td>\n",
       "      <td>177.0</td>\n",
       "      <td>7.2574</td>\n",
       "      <td>352100.0</td>\n",
       "      <td>NEAR BAY</td>\n",
       "    </tr>\n",
       "    <tr>\n",
       "      <th>3</th>\n",
       "      <td>-122.25</td>\n",
       "      <td>37.85</td>\n",
       "      <td>52.0</td>\n",
       "      <td>1274.0</td>\n",
       "      <td>235.0</td>\n",
       "      <td>558.0</td>\n",
       "      <td>219.0</td>\n",
       "      <td>5.6431</td>\n",
       "      <td>341300.0</td>\n",
       "      <td>NEAR BAY</td>\n",
       "    </tr>\n",
       "    <tr>\n",
       "      <th>4</th>\n",
       "      <td>-122.25</td>\n",
       "      <td>37.85</td>\n",
       "      <td>52.0</td>\n",
       "      <td>1627.0</td>\n",
       "      <td>280.0</td>\n",
       "      <td>565.0</td>\n",
       "      <td>259.0</td>\n",
       "      <td>3.8462</td>\n",
       "      <td>342200.0</td>\n",
       "      <td>NEAR BAY</td>\n",
       "    </tr>\n",
       "  </tbody>\n",
       "</table>\n",
       "</div>"
      ],
      "text/plain": [
       "   longitude  latitude  housing_median_age  total_rooms  total_bedrooms  \\\n",
       "0    -122.23     37.88                41.0        880.0           129.0   \n",
       "1    -122.22     37.86                21.0       7099.0          1106.0   \n",
       "2    -122.24     37.85                52.0       1467.0           190.0   \n",
       "3    -122.25     37.85                52.0       1274.0           235.0   \n",
       "4    -122.25     37.85                52.0       1627.0           280.0   \n",
       "\n",
       "   population  households  median_income  median_house_value ocean_proximity  \n",
       "0       322.0       126.0         8.3252            452600.0        NEAR BAY  \n",
       "1      2401.0      1138.0         8.3014            358500.0        NEAR BAY  \n",
       "2       496.0       177.0         7.2574            352100.0        NEAR BAY  \n",
       "3       558.0       219.0         5.6431            341300.0        NEAR BAY  \n",
       "4       565.0       259.0         3.8462            342200.0        NEAR BAY  "
      ]
     },
     "execution_count": 189,
     "metadata": {},
     "output_type": "execute_result"
    }
   ],
   "source": [
    "import pandas as pd\n",
    "\n",
    "def load_housing_data():\n",
    "    return pd.read_csv('housing.csv')\n",
    "\n",
    "housing = load_housing_data()\n",
    "housing.head()"
   ]
  },
  {
   "cell_type": "code",
   "execution_count": 190,
   "id": "b33c34c9",
   "metadata": {},
   "outputs": [
    {
     "data": {
      "text/plain": [
       "<1H OCEAN     9136\n",
       "INLAND        6551\n",
       "NEAR OCEAN    2658\n",
       "NEAR BAY      2290\n",
       "ISLAND           5\n",
       "Name: ocean_proximity, dtype: int64"
      ]
     },
     "execution_count": 190,
     "metadata": {},
     "output_type": "execute_result"
    }
   ],
   "source": [
    "housing['ocean_proximity'].value_counts()"
   ]
  },
  {
   "cell_type": "code",
   "execution_count": 191,
   "id": "76a39480",
   "metadata": {},
   "outputs": [
    {
     "data": {
      "text/html": [
       "<div>\n",
       "<style scoped>\n",
       "    .dataframe tbody tr th:only-of-type {\n",
       "        vertical-align: middle;\n",
       "    }\n",
       "\n",
       "    .dataframe tbody tr th {\n",
       "        vertical-align: top;\n",
       "    }\n",
       "\n",
       "    .dataframe thead th {\n",
       "        text-align: right;\n",
       "    }\n",
       "</style>\n",
       "<table border=\"1\" class=\"dataframe\">\n",
       "  <thead>\n",
       "    <tr style=\"text-align: right;\">\n",
       "      <th></th>\n",
       "      <th>longitude</th>\n",
       "      <th>latitude</th>\n",
       "      <th>housing_median_age</th>\n",
       "      <th>total_rooms</th>\n",
       "      <th>total_bedrooms</th>\n",
       "      <th>population</th>\n",
       "      <th>households</th>\n",
       "      <th>median_income</th>\n",
       "      <th>median_house_value</th>\n",
       "    </tr>\n",
       "  </thead>\n",
       "  <tbody>\n",
       "    <tr>\n",
       "      <th>count</th>\n",
       "      <td>20640.000000</td>\n",
       "      <td>20640.000000</td>\n",
       "      <td>20640.000000</td>\n",
       "      <td>20640.000000</td>\n",
       "      <td>20433.000000</td>\n",
       "      <td>20640.000000</td>\n",
       "      <td>20640.000000</td>\n",
       "      <td>20640.000000</td>\n",
       "      <td>20640.000000</td>\n",
       "    </tr>\n",
       "    <tr>\n",
       "      <th>mean</th>\n",
       "      <td>-119.569704</td>\n",
       "      <td>35.631861</td>\n",
       "      <td>28.639486</td>\n",
       "      <td>2635.763081</td>\n",
       "      <td>537.870553</td>\n",
       "      <td>1425.476744</td>\n",
       "      <td>499.539680</td>\n",
       "      <td>3.870671</td>\n",
       "      <td>206855.816909</td>\n",
       "    </tr>\n",
       "    <tr>\n",
       "      <th>std</th>\n",
       "      <td>2.003532</td>\n",
       "      <td>2.135952</td>\n",
       "      <td>12.585558</td>\n",
       "      <td>2181.615252</td>\n",
       "      <td>421.385070</td>\n",
       "      <td>1132.462122</td>\n",
       "      <td>382.329753</td>\n",
       "      <td>1.899822</td>\n",
       "      <td>115395.615874</td>\n",
       "    </tr>\n",
       "    <tr>\n",
       "      <th>min</th>\n",
       "      <td>-124.350000</td>\n",
       "      <td>32.540000</td>\n",
       "      <td>1.000000</td>\n",
       "      <td>2.000000</td>\n",
       "      <td>1.000000</td>\n",
       "      <td>3.000000</td>\n",
       "      <td>1.000000</td>\n",
       "      <td>0.499900</td>\n",
       "      <td>14999.000000</td>\n",
       "    </tr>\n",
       "    <tr>\n",
       "      <th>25%</th>\n",
       "      <td>-121.800000</td>\n",
       "      <td>33.930000</td>\n",
       "      <td>18.000000</td>\n",
       "      <td>1447.750000</td>\n",
       "      <td>296.000000</td>\n",
       "      <td>787.000000</td>\n",
       "      <td>280.000000</td>\n",
       "      <td>2.563400</td>\n",
       "      <td>119600.000000</td>\n",
       "    </tr>\n",
       "    <tr>\n",
       "      <th>50%</th>\n",
       "      <td>-118.490000</td>\n",
       "      <td>34.260000</td>\n",
       "      <td>29.000000</td>\n",
       "      <td>2127.000000</td>\n",
       "      <td>435.000000</td>\n",
       "      <td>1166.000000</td>\n",
       "      <td>409.000000</td>\n",
       "      <td>3.534800</td>\n",
       "      <td>179700.000000</td>\n",
       "    </tr>\n",
       "    <tr>\n",
       "      <th>75%</th>\n",
       "      <td>-118.010000</td>\n",
       "      <td>37.710000</td>\n",
       "      <td>37.000000</td>\n",
       "      <td>3148.000000</td>\n",
       "      <td>647.000000</td>\n",
       "      <td>1725.000000</td>\n",
       "      <td>605.000000</td>\n",
       "      <td>4.743250</td>\n",
       "      <td>264725.000000</td>\n",
       "    </tr>\n",
       "    <tr>\n",
       "      <th>max</th>\n",
       "      <td>-114.310000</td>\n",
       "      <td>41.950000</td>\n",
       "      <td>52.000000</td>\n",
       "      <td>39320.000000</td>\n",
       "      <td>6445.000000</td>\n",
       "      <td>35682.000000</td>\n",
       "      <td>6082.000000</td>\n",
       "      <td>15.000100</td>\n",
       "      <td>500001.000000</td>\n",
       "    </tr>\n",
       "  </tbody>\n",
       "</table>\n",
       "</div>"
      ],
      "text/plain": [
       "          longitude      latitude  housing_median_age   total_rooms  \\\n",
       "count  20640.000000  20640.000000        20640.000000  20640.000000   \n",
       "mean    -119.569704     35.631861           28.639486   2635.763081   \n",
       "std        2.003532      2.135952           12.585558   2181.615252   \n",
       "min     -124.350000     32.540000            1.000000      2.000000   \n",
       "25%     -121.800000     33.930000           18.000000   1447.750000   \n",
       "50%     -118.490000     34.260000           29.000000   2127.000000   \n",
       "75%     -118.010000     37.710000           37.000000   3148.000000   \n",
       "max     -114.310000     41.950000           52.000000  39320.000000   \n",
       "\n",
       "       total_bedrooms    population    households  median_income  \\\n",
       "count    20433.000000  20640.000000  20640.000000   20640.000000   \n",
       "mean       537.870553   1425.476744    499.539680       3.870671   \n",
       "std        421.385070   1132.462122    382.329753       1.899822   \n",
       "min          1.000000      3.000000      1.000000       0.499900   \n",
       "25%        296.000000    787.000000    280.000000       2.563400   \n",
       "50%        435.000000   1166.000000    409.000000       3.534800   \n",
       "75%        647.000000   1725.000000    605.000000       4.743250   \n",
       "max       6445.000000  35682.000000   6082.000000      15.000100   \n",
       "\n",
       "       median_house_value  \n",
       "count        20640.000000  \n",
       "mean        206855.816909  \n",
       "std         115395.615874  \n",
       "min          14999.000000  \n",
       "25%         119600.000000  \n",
       "50%         179700.000000  \n",
       "75%         264725.000000  \n",
       "max         500001.000000  "
      ]
     },
     "execution_count": 191,
     "metadata": {},
     "output_type": "execute_result"
    }
   ],
   "source": [
    "housing.describe()"
   ]
  },
  {
   "cell_type": "code",
   "execution_count": 192,
   "id": "c29287e7",
   "metadata": {},
   "outputs": [
    {
     "data": {
      "image/png": "[encoded data removed]",
      "text/plain": [
       "<Figure size 1440x1080 with 9 Axes>"
      ]
     },
     "metadata": {
      "needs_background": "light"
     },
     "output_type": "display_data"
    }
   ],
   "source": [
    "%matplotlib inline \n",
    "import matplotlib.pyplot as plt\n",
    "housing.hist(bins=50, figsize=(20,15))\n",
    "#save_fig(\"attribute_histogram_plots\")\n",
    "plt.show()"
   ]
  },
  {
   "cell_type": "markdown",
   "id": "7abe1d25",
   "metadata": {},
   "source": [
    "### Create a test set"
   ]
  },
  {
   "cell_type": "code",
   "execution_count": 193,
   "id": "ff034c54",
   "metadata": {},
   "outputs": [],
   "source": [
    "import numpy as np\n",
    "np.random.seed(42)"
   ]
  },
  {
   "cell_type": "code",
   "execution_count": 194,
   "id": "8343913f",
   "metadata": {},
   "outputs": [],
   "source": [
    "from sklearn.model_selection import train_test_split\n",
    "from sklearn.model_selection import train_test_split\n",
    "\n",
    "train_set, test_set = train_test_split(housing, test_size=0.2, random_state=42)"
   ]
  },
  {
   "cell_type": "code",
   "execution_count": 195,
   "id": "7c1acd6b",
   "metadata": {},
   "outputs": [
    {
     "data": {
      "text/plain": [
       "16512"
      ]
     },
     "execution_count": 195,
     "metadata": {},
     "output_type": "execute_result"
    }
   ],
   "source": [
    "len(train_set)"
   ]
  },
  {
   "cell_type": "code",
   "execution_count": 196,
   "id": "b35fabae",
   "metadata": {},
   "outputs": [
    {
     "data": {
      "text/plain": [
       "4128"
      ]
     },
     "execution_count": 196,
     "metadata": {},
     "output_type": "execute_result"
    }
   ],
   "source": [
    "len(test_set)"
   ]
  },
  {
   "cell_type": "code",
   "execution_count": 197,
   "id": "810be683",
   "metadata": {},
   "outputs": [
    {
     "data": {
      "text/plain": [
       "<AxesSubplot:>"
      ]
     },
     "execution_count": 197,
     "metadata": {},
     "output_type": "execute_result"
    },
    {
     "data": {
      "image/png": "[encoded data removed]",
      "text/plain": [
       "<Figure size 432x288 with 1 Axes>"
      ]
     },
     "metadata": {
      "needs_background": "light"
     },
     "output_type": "display_data"
    }
   ],
   "source": [
    "housing['median_income'].hist()"
   ]
  },
  {
   "cell_type": "code",
   "execution_count": 198,
   "id": "982f181c",
   "metadata": {},
   "outputs": [],
   "source": [
    "housing['income_cat'] = pd.cut(housing['median_income'], bins=[0.,1.5,3.0, 4.5,6.0, np.inf], labels = [1,2,3,4,5])"
   ]
  },
  {
   "cell_type": "code",
   "execution_count": 199,
   "id": "75ea807f",
   "metadata": {},
   "outputs": [
    {
     "data": {
      "text/plain": [
       "3    7236\n",
       "2    6581\n",
       "4    3639\n",
       "5    2362\n",
       "1     822\n",
       "Name: income_cat, dtype: int64"
      ]
     },
     "execution_count": 199,
     "metadata": {},
     "output_type": "execute_result"
    }
   ],
   "source": [
    "housing['income_cat'].value_counts()"
   ]
  },
  {
   "cell_type": "code",
   "execution_count": 200,
   "id": "9916752b",
   "metadata": {},
   "outputs": [],
   "source": [
    "from sklearn.model_selection import StratifiedShuffleSplit\n",
    "\n",
    "split = StratifiedShuffleSplit(n_splits=1, test_size=0.2, random_state=42)\n",
    "for train_index, test_index in split.split(housing, housing['income_cat']):\n",
    "    strat_train_set = housing.loc[train_index]\n",
    "    strat_test_set = housing.loc[test_index]"
   ]
  },
  {
   "cell_type": "code",
   "execution_count": 201,
   "id": "1fc96b87",
   "metadata": {},
   "outputs": [
    {
     "data": {
      "text/html": [
       "<div>\n",
       "<style scoped>\n",
       "    .dataframe tbody tr th:only-of-type {\n",
       "        vertical-align: middle;\n",
       "    }\n",
       "\n",
       "    .dataframe tbody tr th {\n",
       "        vertical-align: top;\n",
       "    }\n",
       "\n",
       "    .dataframe thead th {\n",
       "        text-align: right;\n",
       "    }\n",
       "</style>\n",
       "<table border=\"1\" class=\"dataframe\">\n",
       "  <thead>\n",
       "    <tr style=\"text-align: right;\">\n",
       "      <th></th>\n",
       "      <th>longitude</th>\n",
       "      <th>latitude</th>\n",
       "      <th>housing_median_age</th>\n",
       "      <th>total_rooms</th>\n",
       "      <th>total_bedrooms</th>\n",
       "      <th>population</th>\n",
       "      <th>households</th>\n",
       "      <th>median_income</th>\n",
       "      <th>median_house_value</th>\n",
       "      <th>ocean_proximity</th>\n",
       "      <th>income_cat</th>\n",
       "    </tr>\n",
       "  </thead>\n",
       "  <tbody>\n",
       "    <tr>\n",
       "      <th>17606</th>\n",
       "      <td>-121.89</td>\n",
       "      <td>37.29</td>\n",
       "      <td>38.0</td>\n",
       "      <td>1568.0</td>\n",
       "      <td>351.0</td>\n",
       "      <td>710.0</td>\n",
       "      <td>339.0</td>\n",
       "      <td>2.7042</td>\n",
       "      <td>286600.0</td>\n",
       "      <td>&lt;1H OCEAN</td>\n",
       "      <td>2</td>\n",
       "    </tr>\n",
       "    <tr>\n",
       "      <th>18632</th>\n",
       "      <td>-121.93</td>\n",
       "      <td>37.05</td>\n",
       "      <td>14.0</td>\n",
       "      <td>679.0</td>\n",
       "      <td>108.0</td>\n",
       "      <td>306.0</td>\n",
       "      <td>113.0</td>\n",
       "      <td>6.4214</td>\n",
       "      <td>340600.0</td>\n",
       "      <td>&lt;1H OCEAN</td>\n",
       "      <td>5</td>\n",
       "    </tr>\n",
       "    <tr>\n",
       "      <th>14650</th>\n",
       "      <td>-117.20</td>\n",
       "      <td>32.77</td>\n",
       "      <td>31.0</td>\n",
       "      <td>1952.0</td>\n",
       "      <td>471.0</td>\n",
       "      <td>936.0</td>\n",
       "      <td>462.0</td>\n",
       "      <td>2.8621</td>\n",
       "      <td>196900.0</td>\n",
       "      <td>NEAR OCEAN</td>\n",
       "      <td>2</td>\n",
       "    </tr>\n",
       "    <tr>\n",
       "      <th>3230</th>\n",
       "      <td>-119.61</td>\n",
       "      <td>36.31</td>\n",
       "      <td>25.0</td>\n",
       "      <td>1847.0</td>\n",
       "      <td>371.0</td>\n",
       "      <td>1460.0</td>\n",
       "      <td>353.0</td>\n",
       "      <td>1.8839</td>\n",
       "      <td>46300.0</td>\n",
       "      <td>INLAND</td>\n",
       "      <td>2</td>\n",
       "    </tr>\n",
       "    <tr>\n",
       "      <th>3555</th>\n",
       "      <td>-118.59</td>\n",
       "      <td>34.23</td>\n",
       "      <td>17.0</td>\n",
       "      <td>6592.0</td>\n",
       "      <td>1525.0</td>\n",
       "      <td>4459.0</td>\n",
       "      <td>1463.0</td>\n",
       "      <td>3.0347</td>\n",
       "      <td>254500.0</td>\n",
       "      <td>&lt;1H OCEAN</td>\n",
       "      <td>3</td>\n",
       "    </tr>\n",
       "    <tr>\n",
       "      <th>...</th>\n",
       "      <td>...</td>\n",
       "      <td>...</td>\n",
       "      <td>...</td>\n",
       "      <td>...</td>\n",
       "      <td>...</td>\n",
       "      <td>...</td>\n",
       "      <td>...</td>\n",
       "      <td>...</td>\n",
       "      <td>...</td>\n",
       "      <td>...</td>\n",
       "      <td>...</td>\n",
       "    </tr>\n",
       "    <tr>\n",
       "      <th>6563</th>\n",
       "      <td>-118.13</td>\n",
       "      <td>34.20</td>\n",
       "      <td>46.0</td>\n",
       "      <td>1271.0</td>\n",
       "      <td>236.0</td>\n",
       "      <td>573.0</td>\n",
       "      <td>210.0</td>\n",
       "      <td>4.9312</td>\n",
       "      <td>240200.0</td>\n",
       "      <td>INLAND</td>\n",
       "      <td>4</td>\n",
       "    </tr>\n",
       "    <tr>\n",
       "      <th>12053</th>\n",
       "      <td>-117.56</td>\n",
       "      <td>33.88</td>\n",
       "      <td>40.0</td>\n",
       "      <td>1196.0</td>\n",
       "      <td>294.0</td>\n",
       "      <td>1052.0</td>\n",
       "      <td>258.0</td>\n",
       "      <td>2.0682</td>\n",
       "      <td>113000.0</td>\n",
       "      <td>INLAND</td>\n",
       "      <td>2</td>\n",
       "    </tr>\n",
       "    <tr>\n",
       "      <th>13908</th>\n",
       "      <td>-116.40</td>\n",
       "      <td>34.09</td>\n",
       "      <td>9.0</td>\n",
       "      <td>4855.0</td>\n",
       "      <td>872.0</td>\n",
       "      <td>2098.0</td>\n",
       "      <td>765.0</td>\n",
       "      <td>3.2723</td>\n",
       "      <td>97800.0</td>\n",
       "      <td>INLAND</td>\n",
       "      <td>3</td>\n",
       "    </tr>\n",
       "    <tr>\n",
       "      <th>11159</th>\n",
       "      <td>-118.01</td>\n",
       "      <td>33.82</td>\n",
       "      <td>31.0</td>\n",
       "      <td>1960.0</td>\n",
       "      <td>380.0</td>\n",
       "      <td>1356.0</td>\n",
       "      <td>356.0</td>\n",
       "      <td>4.0625</td>\n",
       "      <td>225900.0</td>\n",
       "      <td>&lt;1H OCEAN</td>\n",
       "      <td>3</td>\n",
       "    </tr>\n",
       "    <tr>\n",
       "      <th>15775</th>\n",
       "      <td>-122.45</td>\n",
       "      <td>37.77</td>\n",
       "      <td>52.0</td>\n",
       "      <td>3095.0</td>\n",
       "      <td>682.0</td>\n",
       "      <td>1269.0</td>\n",
       "      <td>639.0</td>\n",
       "      <td>3.5750</td>\n",
       "      <td>500001.0</td>\n",
       "      <td>NEAR BAY</td>\n",
       "      <td>3</td>\n",
       "    </tr>\n",
       "  </tbody>\n",
       "</table>\n",
       "<p>16512 rows × 11 columns</p>\n",
       "</div>"
      ],
      "text/plain": [
       "       longitude  latitude  housing_median_age  total_rooms  total_bedrooms  \\\n",
       "17606    -121.89     37.29                38.0       1568.0           351.0   \n",
       "18632    -121.93     37.05                14.0        679.0           108.0   \n",
       "14650    -117.20     32.77                31.0       1952.0           471.0   \n",
       "3230     -119.61     36.31                25.0       1847.0           371.0   \n",
       "3555     -118.59     34.23                17.0       6592.0          1525.0   \n",
       "...          ...       ...                 ...          ...             ...   \n",
       "6563     -118.13     34.20                46.0       1271.0           236.0   \n",
       "12053    -117.56     33.88                40.0       1196.0           294.0   \n",
       "13908    -116.40     34.09                 9.0       4855.0           872.0   \n",
       "11159    -118.01     33.82                31.0       1960.0           380.0   \n",
       "15775    -122.45     37.77                52.0       3095.0           682.0   \n",
       "\n",
       "       population  households  median_income  median_house_value  \\\n",
       "17606       710.0       339.0         2.7042            286600.0   \n",
       "18632       306.0       113.0         6.4214            340600.0   \n",
       "14650       936.0       462.0         2.8621            196900.0   \n",
       "3230       1460.0       353.0         1.8839             46300.0   \n",
       "3555       4459.0      1463.0         3.0347            254500.0   \n",
       "...           ...         ...            ...                 ...   \n",
       "6563        573.0       210.0         4.9312            240200.0   \n",
       "12053      1052.0       258.0         2.0682            113000.0   \n",
       "13908      2098.0       765.0         3.2723             97800.0   \n",
       "11159      1356.0       356.0         4.0625            225900.0   \n",
       "15775      1269.0       639.0         3.5750            500001.0   \n",
       "\n",
       "      ocean_proximity income_cat  \n",
       "17606       <1H OCEAN          2  \n",
       "18632       <1H OCEAN          5  \n",
       "14650      NEAR OCEAN          2  \n",
       "3230           INLAND          2  \n",
       "3555        <1H OCEAN          3  \n",
       "...               ...        ...  \n",
       "6563           INLAND          4  \n",
       "12053          INLAND          2  \n",
       "13908          INLAND          3  \n",
       "11159       <1H OCEAN          3  \n",
       "15775        NEAR BAY          3  \n",
       "\n",
       "[16512 rows x 11 columns]"
      ]
     },
     "execution_count": 201,
     "metadata": {},
     "output_type": "execute_result"
    }
   ],
   "source": [
    "strat_train_set"
   ]
  },
  {
   "cell_type": "code",
   "execution_count": 202,
   "id": "1748301f",
   "metadata": {},
   "outputs": [
    {
     "data": {
      "text/html": [
       "<div>\n",
       "<style scoped>\n",
       "    .dataframe tbody tr th:only-of-type {\n",
       "        vertical-align: middle;\n",
       "    }\n",
       "\n",
       "    .dataframe tbody tr th {\n",
       "        vertical-align: top;\n",
       "    }\n",
       "\n",
       "    .dataframe thead th {\n",
       "        text-align: right;\n",
       "    }\n",
       "</style>\n",
       "<table border=\"1\" class=\"dataframe\">\n",
       "  <thead>\n",
       "    <tr style=\"text-align: right;\">\n",
       "      <th></th>\n",
       "      <th>longitude</th>\n",
       "      <th>latitude</th>\n",
       "      <th>housing_median_age</th>\n",
       "      <th>total_rooms</th>\n",
       "      <th>total_bedrooms</th>\n",
       "      <th>population</th>\n",
       "      <th>households</th>\n",
       "      <th>median_income</th>\n",
       "      <th>median_house_value</th>\n",
       "      <th>ocean_proximity</th>\n",
       "      <th>income_cat</th>\n",
       "    </tr>\n",
       "  </thead>\n",
       "  <tbody>\n",
       "    <tr>\n",
       "      <th>5241</th>\n",
       "      <td>-118.39</td>\n",
       "      <td>34.12</td>\n",
       "      <td>29.0</td>\n",
       "      <td>6447.0</td>\n",
       "      <td>1012.0</td>\n",
       "      <td>2184.0</td>\n",
       "      <td>960.0</td>\n",
       "      <td>8.2816</td>\n",
       "      <td>500001.0</td>\n",
       "      <td>&lt;1H OCEAN</td>\n",
       "      <td>5</td>\n",
       "    </tr>\n",
       "    <tr>\n",
       "      <th>10970</th>\n",
       "      <td>-117.86</td>\n",
       "      <td>33.77</td>\n",
       "      <td>39.0</td>\n",
       "      <td>4159.0</td>\n",
       "      <td>655.0</td>\n",
       "      <td>1669.0</td>\n",
       "      <td>651.0</td>\n",
       "      <td>4.6111</td>\n",
       "      <td>240300.0</td>\n",
       "      <td>&lt;1H OCEAN</td>\n",
       "      <td>4</td>\n",
       "    </tr>\n",
       "    <tr>\n",
       "      <th>20351</th>\n",
       "      <td>-119.05</td>\n",
       "      <td>34.21</td>\n",
       "      <td>27.0</td>\n",
       "      <td>4357.0</td>\n",
       "      <td>926.0</td>\n",
       "      <td>2110.0</td>\n",
       "      <td>876.0</td>\n",
       "      <td>3.0119</td>\n",
       "      <td>218200.0</td>\n",
       "      <td>&lt;1H OCEAN</td>\n",
       "      <td>3</td>\n",
       "    </tr>\n",
       "    <tr>\n",
       "      <th>6568</th>\n",
       "      <td>-118.15</td>\n",
       "      <td>34.20</td>\n",
       "      <td>52.0</td>\n",
       "      <td>1786.0</td>\n",
       "      <td>306.0</td>\n",
       "      <td>1018.0</td>\n",
       "      <td>322.0</td>\n",
       "      <td>4.1518</td>\n",
       "      <td>182100.0</td>\n",
       "      <td>INLAND</td>\n",
       "      <td>3</td>\n",
       "    </tr>\n",
       "    <tr>\n",
       "      <th>13285</th>\n",
       "      <td>-117.68</td>\n",
       "      <td>34.07</td>\n",
       "      <td>32.0</td>\n",
       "      <td>1775.0</td>\n",
       "      <td>314.0</td>\n",
       "      <td>1067.0</td>\n",
       "      <td>302.0</td>\n",
       "      <td>4.0375</td>\n",
       "      <td>121300.0</td>\n",
       "      <td>INLAND</td>\n",
       "      <td>3</td>\n",
       "    </tr>\n",
       "    <tr>\n",
       "      <th>...</th>\n",
       "      <td>...</td>\n",
       "      <td>...</td>\n",
       "      <td>...</td>\n",
       "      <td>...</td>\n",
       "      <td>...</td>\n",
       "      <td>...</td>\n",
       "      <td>...</td>\n",
       "      <td>...</td>\n",
       "      <td>...</td>\n",
       "      <td>...</td>\n",
       "      <td>...</td>\n",
       "    </tr>\n",
       "    <tr>\n",
       "      <th>20519</th>\n",
       "      <td>-121.53</td>\n",
       "      <td>38.58</td>\n",
       "      <td>33.0</td>\n",
       "      <td>4988.0</td>\n",
       "      <td>1169.0</td>\n",
       "      <td>2414.0</td>\n",
       "      <td>1075.0</td>\n",
       "      <td>1.9728</td>\n",
       "      <td>76400.0</td>\n",
       "      <td>INLAND</td>\n",
       "      <td>2</td>\n",
       "    </tr>\n",
       "    <tr>\n",
       "      <th>17430</th>\n",
       "      <td>-120.44</td>\n",
       "      <td>34.65</td>\n",
       "      <td>30.0</td>\n",
       "      <td>2265.0</td>\n",
       "      <td>512.0</td>\n",
       "      <td>1402.0</td>\n",
       "      <td>471.0</td>\n",
       "      <td>1.9750</td>\n",
       "      <td>134000.0</td>\n",
       "      <td>NEAR OCEAN</td>\n",
       "      <td>2</td>\n",
       "    </tr>\n",
       "    <tr>\n",
       "      <th>4019</th>\n",
       "      <td>-118.49</td>\n",
       "      <td>34.18</td>\n",
       "      <td>31.0</td>\n",
       "      <td>3073.0</td>\n",
       "      <td>674.0</td>\n",
       "      <td>1486.0</td>\n",
       "      <td>684.0</td>\n",
       "      <td>4.8984</td>\n",
       "      <td>311700.0</td>\n",
       "      <td>&lt;1H OCEAN</td>\n",
       "      <td>4</td>\n",
       "    </tr>\n",
       "    <tr>\n",
       "      <th>12107</th>\n",
       "      <td>-117.32</td>\n",
       "      <td>33.99</td>\n",
       "      <td>27.0</td>\n",
       "      <td>5464.0</td>\n",
       "      <td>850.0</td>\n",
       "      <td>2400.0</td>\n",
       "      <td>836.0</td>\n",
       "      <td>4.7110</td>\n",
       "      <td>133500.0</td>\n",
       "      <td>INLAND</td>\n",
       "      <td>4</td>\n",
       "    </tr>\n",
       "    <tr>\n",
       "      <th>2398</th>\n",
       "      <td>-118.91</td>\n",
       "      <td>36.79</td>\n",
       "      <td>19.0</td>\n",
       "      <td>1616.0</td>\n",
       "      <td>324.0</td>\n",
       "      <td>187.0</td>\n",
       "      <td>80.0</td>\n",
       "      <td>3.7857</td>\n",
       "      <td>78600.0</td>\n",
       "      <td>INLAND</td>\n",
       "      <td>3</td>\n",
       "    </tr>\n",
       "  </tbody>\n",
       "</table>\n",
       "<p>4128 rows × 11 columns</p>\n",
       "</div>"
      ],
      "text/plain": [
       "       longitude  latitude  housing_median_age  total_rooms  total_bedrooms  \\\n",
       "5241     -118.39     34.12                29.0       6447.0          1012.0   \n",
       "10970    -117.86     33.77                39.0       4159.0           655.0   \n",
       "20351    -119.05     34.21                27.0       4357.0           926.0   \n",
       "6568     -118.15     34.20                52.0       1786.0           306.0   \n",
       "13285    -117.68     34.07                32.0       1775.0           314.0   \n",
       "...          ...       ...                 ...          ...             ...   \n",
       "20519    -121.53     38.58                33.0       4988.0          1169.0   \n",
       "17430    -120.44     34.65                30.0       2265.0           512.0   \n",
       "4019     -118.49     34.18                31.0       3073.0           674.0   \n",
       "12107    -117.32     33.99                27.0       5464.0           850.0   \n",
       "2398     -118.91     36.79                19.0       1616.0           324.0   \n",
       "\n",
       "       population  households  median_income  median_house_value  \\\n",
       "5241       2184.0       960.0         8.2816            500001.0   \n",
       "10970      1669.0       651.0         4.6111            240300.0   \n",
       "20351      2110.0       876.0         3.0119            218200.0   \n",
       "6568       1018.0       322.0         4.1518            182100.0   \n",
       "13285      1067.0       302.0         4.0375            121300.0   \n",
       "...           ...         ...            ...                 ...   \n",
       "20519      2414.0      1075.0         1.9728             76400.0   \n",
       "17430      1402.0       471.0         1.9750            134000.0   \n",
       "4019       1486.0       684.0         4.8984            311700.0   \n",
       "12107      2400.0       836.0         4.7110            133500.0   \n",
       "2398        187.0        80.0         3.7857             78600.0   \n",
       "\n",
       "      ocean_proximity income_cat  \n",
       "5241        <1H OCEAN          5  \n",
       "10970       <1H OCEAN          4  \n",
       "20351       <1H OCEAN          3  \n",
       "6568           INLAND          3  \n",
       "13285          INLAND          3  \n",
       "...               ...        ...  \n",
       "20519          INLAND          2  \n",
       "17430      NEAR OCEAN          2  \n",
       "4019        <1H OCEAN          4  \n",
       "12107          INLAND          4  \n",
       "2398           INLAND          3  \n",
       "\n",
       "[4128 rows x 11 columns]"
      ]
     },
     "execution_count": 202,
     "metadata": {},
     "output_type": "execute_result"
    }
   ],
   "source": [
    "strat_test_set"
   ]
  },
  {
   "cell_type": "code",
   "execution_count": 203,
   "id": "11baffc9",
   "metadata": {},
   "outputs": [
    {
     "data": {
      "text/plain": [
       "3    0.350533\n",
       "2    0.318798\n",
       "4    0.176357\n",
       "5    0.114583\n",
       "1    0.039729\n",
       "Name: income_cat, dtype: float64"
      ]
     },
     "execution_count": 203,
     "metadata": {},
     "output_type": "execute_result"
    }
   ],
   "source": [
    "strat_test_set['income_cat'].value_counts()/len(strat_test_set)"
   ]
  },
  {
   "cell_type": "code",
   "execution_count": 204,
   "id": "55afab5c",
   "metadata": {},
   "outputs": [],
   "source": [
    "corr_matrix = housing.corr()"
   ]
  },
  {
   "cell_type": "code",
   "execution_count": 205,
   "id": "9ba3dbea",
   "metadata": {},
   "outputs": [
    {
     "data": {
      "text/html": [
       "<div>\n",
       "<style scoped>\n",
       "    .dataframe tbody tr th:only-of-type {\n",
       "        vertical-align: middle;\n",
       "    }\n",
       "\n",
       "    .dataframe tbody tr th {\n",
       "        vertical-align: top;\n",
       "    }\n",
       "\n",
       "    .dataframe thead th {\n",
       "        text-align: right;\n",
       "    }\n",
       "</style>\n",
       "<table border=\"1\" class=\"dataframe\">\n",
       "  <thead>\n",
       "    <tr style=\"text-align: right;\">\n",
       "      <th></th>\n",
       "      <th>longitude</th>\n",
       "      <th>latitude</th>\n",
       "      <th>housing_median_age</th>\n",
       "      <th>total_rooms</th>\n",
       "      <th>total_bedrooms</th>\n",
       "      <th>population</th>\n",
       "      <th>households</th>\n",
       "      <th>median_income</th>\n",
       "      <th>median_house_value</th>\n",
       "    </tr>\n",
       "  </thead>\n",
       "  <tbody>\n",
       "    <tr>\n",
       "      <th>longitude</th>\n",
       "      <td>1.000000</td>\n",
       "      <td>-0.924664</td>\n",
       "      <td>-0.108197</td>\n",
       "      <td>0.044568</td>\n",
       "      <td>0.069608</td>\n",
       "      <td>0.099773</td>\n",
       "      <td>0.055310</td>\n",
       "      <td>-0.015176</td>\n",
       "      <td>-0.045967</td>\n",
       "    </tr>\n",
       "    <tr>\n",
       "      <th>latitude</th>\n",
       "      <td>-0.924664</td>\n",
       "      <td>1.000000</td>\n",
       "      <td>0.011173</td>\n",
       "      <td>-0.036100</td>\n",
       "      <td>-0.066983</td>\n",
       "      <td>-0.108785</td>\n",
       "      <td>-0.071035</td>\n",
       "      <td>-0.079809</td>\n",
       "      <td>-0.144160</td>\n",
       "    </tr>\n",
       "    <tr>\n",
       "      <th>housing_median_age</th>\n",
       "      <td>-0.108197</td>\n",
       "      <td>0.011173</td>\n",
       "      <td>1.000000</td>\n",
       "      <td>-0.361262</td>\n",
       "      <td>-0.320451</td>\n",
       "      <td>-0.296244</td>\n",
       "      <td>-0.302916</td>\n",
       "      <td>-0.119034</td>\n",
       "      <td>0.105623</td>\n",
       "    </tr>\n",
       "    <tr>\n",
       "      <th>total_rooms</th>\n",
       "      <td>0.044568</td>\n",
       "      <td>-0.036100</td>\n",
       "      <td>-0.361262</td>\n",
       "      <td>1.000000</td>\n",
       "      <td>0.930380</td>\n",
       "      <td>0.857126</td>\n",
       "      <td>0.918484</td>\n",
       "      <td>0.198050</td>\n",
       "      <td>0.134153</td>\n",
       "    </tr>\n",
       "    <tr>\n",
       "      <th>total_bedrooms</th>\n",
       "      <td>0.069608</td>\n",
       "      <td>-0.066983</td>\n",
       "      <td>-0.320451</td>\n",
       "      <td>0.930380</td>\n",
       "      <td>1.000000</td>\n",
       "      <td>0.877747</td>\n",
       "      <td>0.979728</td>\n",
       "      <td>-0.007723</td>\n",
       "      <td>0.049686</td>\n",
       "    </tr>\n",
       "    <tr>\n",
       "      <th>population</th>\n",
       "      <td>0.099773</td>\n",
       "      <td>-0.108785</td>\n",
       "      <td>-0.296244</td>\n",
       "      <td>0.857126</td>\n",
       "      <td>0.877747</td>\n",
       "      <td>1.000000</td>\n",
       "      <td>0.907222</td>\n",
       "      <td>0.004834</td>\n",
       "      <td>-0.024650</td>\n",
       "    </tr>\n",
       "    <tr>\n",
       "      <th>households</th>\n",
       "      <td>0.055310</td>\n",
       "      <td>-0.071035</td>\n",
       "      <td>-0.302916</td>\n",
       "      <td>0.918484</td>\n",
       "      <td>0.979728</td>\n",
       "      <td>0.907222</td>\n",
       "      <td>1.000000</td>\n",
       "      <td>0.013033</td>\n",
       "      <td>0.065843</td>\n",
       "    </tr>\n",
       "    <tr>\n",
       "      <th>median_income</th>\n",
       "      <td>-0.015176</td>\n",
       "      <td>-0.079809</td>\n",
       "      <td>-0.119034</td>\n",
       "      <td>0.198050</td>\n",
       "      <td>-0.007723</td>\n",
       "      <td>0.004834</td>\n",
       "      <td>0.013033</td>\n",
       "      <td>1.000000</td>\n",
       "      <td>0.688075</td>\n",
       "    </tr>\n",
       "    <tr>\n",
       "      <th>median_house_value</th>\n",
       "      <td>-0.045967</td>\n",
       "      <td>-0.144160</td>\n",
       "      <td>0.105623</td>\n",
       "      <td>0.134153</td>\n",
       "      <td>0.049686</td>\n",
       "      <td>-0.024650</td>\n",
       "      <td>0.065843</td>\n",
       "      <td>0.688075</td>\n",
       "      <td>1.000000</td>\n",
       "    </tr>\n",
       "  </tbody>\n",
       "</table>\n",
       "</div>"
      ],
      "text/plain": [
       "                    longitude  latitude  housing_median_age  total_rooms  \\\n",
       "longitude            1.000000 -0.924664           -0.108197     0.044568   \n",
       "latitude            -0.924664  1.000000            0.011173    -0.036100   \n",
       "housing_median_age  -0.108197  0.011173            1.000000    -0.361262   \n",
       "total_rooms          0.044568 -0.036100           -0.361262     1.000000   \n",
       "total_bedrooms       0.069608 -0.066983           -0.320451     0.930380   \n",
       "population           0.099773 -0.108785           -0.296244     0.857126   \n",
       "households           0.055310 -0.071035           -0.302916     0.918484   \n",
       "median_income       -0.015176 -0.079809           -0.119034     0.198050   \n",
       "median_house_value  -0.045967 -0.144160            0.105623     0.134153   \n",
       "\n",
       "                    total_bedrooms  population  households  median_income  \\\n",
       "longitude                 0.069608    0.099773    0.055310      -0.015176   \n",
       "latitude                 -0.066983   -0.108785   -0.071035      -0.079809   \n",
       "housing_median_age       -0.320451   -0.296244   -0.302916      -0.119034   \n",
       "total_rooms               0.930380    0.857126    0.918484       0.198050   \n",
       "total_bedrooms            1.000000    0.877747    0.979728      -0.007723   \n",
       "population                0.877747    1.000000    0.907222       0.004834   \n",
       "households                0.979728    0.907222    1.000000       0.013033   \n",
       "median_income            -0.007723    0.004834    0.013033       1.000000   \n",
       "median_house_value        0.049686   -0.024650    0.065843       0.688075   \n",
       "\n",
       "                    median_house_value  \n",
       "longitude                    -0.045967  \n",
       "latitude                     -0.144160  \n",
       "housing_median_age            0.105623  \n",
       "total_rooms                   0.134153  \n",
       "total_bedrooms                0.049686  \n",
       "population                   -0.024650  \n",
       "households                    0.065843  \n",
       "median_income                 0.688075  \n",
       "median_house_value            1.000000  "
      ]
     },
     "execution_count": 205,
     "metadata": {},
     "output_type": "execute_result"
    }
   ],
   "source": [
    "corr_matrix"
   ]
  },
  {
   "cell_type": "code",
   "execution_count": 206,
   "id": "705ed6ef",
   "metadata": {},
   "outputs": [
    {
     "data": {
      "text/plain": [
       "median_house_value    1.000000\n",
       "median_income         0.688075\n",
       "total_rooms           0.134153\n",
       "housing_median_age    0.105623\n",
       "households            0.065843\n",
       "total_bedrooms        0.049686\n",
       "population           -0.024650\n",
       "longitude            -0.045967\n",
       "latitude             -0.144160\n",
       "Name: median_house_value, dtype: float64"
      ]
     },
     "execution_count": 206,
     "metadata": {},
     "output_type": "execute_result"
    }
   ],
   "source": [
    "corr_matrix['median_house_value'].sort_values(ascending=False)"
   ]
  },
  {
   "cell_type": "code",
   "execution_count": 207,
   "id": "50b2d750",
   "metadata": {},
   "outputs": [
    {
     "data": {
      "text/plain": [
       "(0.0, 16.0, 0.0, 550000.0)"
      ]
     },
     "execution_count": 207,
     "metadata": {},
     "output_type": "execute_result"
    },
    {
     "data": {
      "image/png": "[encoded data removed]",
      "text/plain": [
       "<Figure size 432x288 with 1 Axes>"
      ]
     },
     "metadata": {
      "needs_background": "light"
     },
     "output_type": "display_data"
    }
   ],
   "source": [
    "housing.plot(kind='scatter', x='median_income', y='median_house_value',alpha=0.1)\n",
    "plt.axis([0,16,0,550000])\n",
    "#save_fig('income_vs_house_value_scatterplot')"
   ]
  },
  {
   "cell_type": "markdown",
   "id": "90e28c9f",
   "metadata": {},
   "source": [
    "### checking correlation with attribute combinations"
   ]
  },
  {
   "cell_type": "code",
   "execution_count": 208,
   "id": "ef33d075",
   "metadata": {},
   "outputs": [],
   "source": [
    "housing['rooms_per_household'] = housing['total_rooms']/housing['households']\n",
    "housing['bedrooms_per_room'] = housing['total_bedrooms']/housing['total_rooms']\n",
    "housing['population_per_household'] = housing['population']/housing['households']"
   ]
  },
  {
   "cell_type": "code",
   "execution_count": 209,
   "id": "82e1050c",
   "metadata": {},
   "outputs": [
    {
     "data": {
      "text/plain": [
       "median_house_value          1.000000\n",
       "median_income               0.688075\n",
       "rooms_per_household         0.151948\n",
       "total_rooms                 0.134153\n",
       "housing_median_age          0.105623\n",
       "households                  0.065843\n",
       "total_bedrooms              0.049686\n",
       "population_per_household   -0.023737\n",
       "population                 -0.024650\n",
       "longitude                  -0.045967\n",
       "latitude                   -0.144160\n",
       "bedrooms_per_room          -0.255880\n",
       "Name: median_house_value, dtype: float64"
      ]
     },
     "execution_count": 209,
     "metadata": {},
     "output_type": "execute_result"
    }
   ],
   "source": [
    "corr_matrix = housing.corr()\n",
    "corr_matrix['median_house_value'].sort_values(ascending=False)"
   ]
  },
  {
   "cell_type": "code",
   "execution_count": 210,
   "id": "45ba0185",
   "metadata": {},
   "outputs": [
    {
     "data": {
      "image/png": "[encoded data removed]",
      "text/plain": [
       "<Figure size 432x288 with 1 Axes>"
      ]
     },
     "metadata": {
      "needs_background": "light"
     },
     "output_type": "display_data"
    }
   ],
   "source": [
    "housing.plot(kind='scatter', x='rooms_per_household', y='median_house_value',alpha=0.2)\n",
    "plt.axis([0,5,0,520000])\n",
    "plt.show()"
   ]
  },
  {
   "cell_type": "code",
   "execution_count": 211,
   "id": "a166a6c8",
   "metadata": {},
   "outputs": [
    {
     "data": {
      "text/html": [
       "<div>\n",
       "<style scoped>\n",
       "    .dataframe tbody tr th:only-of-type {\n",
       "        vertical-align: middle;\n",
       "    }\n",
       "\n",
       "    .dataframe tbody tr th {\n",
       "        vertical-align: top;\n",
       "    }\n",
       "\n",
       "    .dataframe thead th {\n",
       "        text-align: right;\n",
       "    }\n",
       "</style>\n",
       "<table border=\"1\" class=\"dataframe\">\n",
       "  <thead>\n",
       "    <tr style=\"text-align: right;\">\n",
       "      <th></th>\n",
       "      <th>longitude</th>\n",
       "      <th>latitude</th>\n",
       "      <th>housing_median_age</th>\n",
       "      <th>total_rooms</th>\n",
       "      <th>total_bedrooms</th>\n",
       "      <th>population</th>\n",
       "      <th>households</th>\n",
       "      <th>median_income</th>\n",
       "      <th>median_house_value</th>\n",
       "      <th>rooms_per_household</th>\n",
       "      <th>bedrooms_per_room</th>\n",
       "      <th>population_per_household</th>\n",
       "    </tr>\n",
       "  </thead>\n",
       "  <tbody>\n",
       "    <tr>\n",
       "      <th>count</th>\n",
       "      <td>20640.000000</td>\n",
       "      <td>20640.000000</td>\n",
       "      <td>20640.000000</td>\n",
       "      <td>20640.000000</td>\n",
       "      <td>20433.000000</td>\n",
       "      <td>20640.000000</td>\n",
       "      <td>20640.000000</td>\n",
       "      <td>20640.000000</td>\n",
       "      <td>20640.000000</td>\n",
       "      <td>20640.000000</td>\n",
       "      <td>20433.000000</td>\n",
       "      <td>20640.000000</td>\n",
       "    </tr>\n",
       "    <tr>\n",
       "      <th>mean</th>\n",
       "      <td>-119.569704</td>\n",
       "      <td>35.631861</td>\n",
       "      <td>28.639486</td>\n",
       "      <td>2635.763081</td>\n",
       "      <td>537.870553</td>\n",
       "      <td>1425.476744</td>\n",
       "      <td>499.539680</td>\n",
       "      <td>3.870671</td>\n",
       "      <td>206855.816909</td>\n",
       "      <td>5.429000</td>\n",
       "      <td>0.213039</td>\n",
       "      <td>3.070655</td>\n",
       "    </tr>\n",
       "    <tr>\n",
       "      <th>std</th>\n",
       "      <td>2.003532</td>\n",
       "      <td>2.135952</td>\n",
       "      <td>12.585558</td>\n",
       "      <td>2181.615252</td>\n",
       "      <td>421.385070</td>\n",
       "      <td>1132.462122</td>\n",
       "      <td>382.329753</td>\n",
       "      <td>1.899822</td>\n",
       "      <td>115395.615874</td>\n",
       "      <td>2.474173</td>\n",
       "      <td>0.057983</td>\n",
       "      <td>10.386050</td>\n",
       "    </tr>\n",
       "    <tr>\n",
       "      <th>min</th>\n",
       "      <td>-124.350000</td>\n",
       "      <td>32.540000</td>\n",
       "      <td>1.000000</td>\n",
       "      <td>2.000000</td>\n",
       "      <td>1.000000</td>\n",
       "      <td>3.000000</td>\n",
       "      <td>1.000000</td>\n",
       "      <td>0.499900</td>\n",
       "      <td>14999.000000</td>\n",
       "      <td>0.846154</td>\n",
       "      <td>0.100000</td>\n",
       "      <td>0.692308</td>\n",
       "    </tr>\n",
       "    <tr>\n",
       "      <th>25%</th>\n",
       "      <td>-121.800000</td>\n",
       "      <td>33.930000</td>\n",
       "      <td>18.000000</td>\n",
       "      <td>1447.750000</td>\n",
       "      <td>296.000000</td>\n",
       "      <td>787.000000</td>\n",
       "      <td>280.000000</td>\n",
       "      <td>2.563400</td>\n",
       "      <td>119600.000000</td>\n",
       "      <td>4.440716</td>\n",
       "      <td>0.175427</td>\n",
       "      <td>2.429741</td>\n",
       "    </tr>\n",
       "    <tr>\n",
       "      <th>50%</th>\n",
       "      <td>-118.490000</td>\n",
       "      <td>34.260000</td>\n",
       "      <td>29.000000</td>\n",
       "      <td>2127.000000</td>\n",
       "      <td>435.000000</td>\n",
       "      <td>1166.000000</td>\n",
       "      <td>409.000000</td>\n",
       "      <td>3.534800</td>\n",
       "      <td>179700.000000</td>\n",
       "      <td>5.229129</td>\n",
       "      <td>0.203162</td>\n",
       "      <td>2.818116</td>\n",
       "    </tr>\n",
       "    <tr>\n",
       "      <th>75%</th>\n",
       "      <td>-118.010000</td>\n",
       "      <td>37.710000</td>\n",
       "      <td>37.000000</td>\n",
       "      <td>3148.000000</td>\n",
       "      <td>647.000000</td>\n",
       "      <td>1725.000000</td>\n",
       "      <td>605.000000</td>\n",
       "      <td>4.743250</td>\n",
       "      <td>264725.000000</td>\n",
       "      <td>6.052381</td>\n",
       "      <td>0.239821</td>\n",
       "      <td>3.282261</td>\n",
       "    </tr>\n",
       "    <tr>\n",
       "      <th>max</th>\n",
       "      <td>-114.310000</td>\n",
       "      <td>41.950000</td>\n",
       "      <td>52.000000</td>\n",
       "      <td>39320.000000</td>\n",
       "      <td>6445.000000</td>\n",
       "      <td>35682.000000</td>\n",
       "      <td>6082.000000</td>\n",
       "      <td>15.000100</td>\n",
       "      <td>500001.000000</td>\n",
       "      <td>141.909091</td>\n",
       "      <td>1.000000</td>\n",
       "      <td>1243.333333</td>\n",
       "    </tr>\n",
       "  </tbody>\n",
       "</table>\n",
       "</div>"
      ],
      "text/plain": [
       "          longitude      latitude  housing_median_age   total_rooms  \\\n",
       "count  20640.000000  20640.000000        20640.000000  20640.000000   \n",
       "mean    -119.569704     35.631861           28.639486   2635.763081   \n",
       "std        2.003532      2.135952           12.585558   2181.615252   \n",
       "min     -124.350000     32.540000            1.000000      2.000000   \n",
       "25%     -121.800000     33.930000           18.000000   1447.750000   \n",
       "50%     -118.490000     34.260000           29.000000   2127.000000   \n",
       "75%     -118.010000     37.710000           37.000000   3148.000000   \n",
       "max     -114.310000     41.950000           52.000000  39320.000000   \n",
       "\n",
       "       total_bedrooms    population    households  median_income  \\\n",
       "count    20433.000000  20640.000000  20640.000000   20640.000000   \n",
       "mean       537.870553   1425.476744    499.539680       3.870671   \n",
       "std        421.385070   1132.462122    382.329753       1.899822   \n",
       "min          1.000000      3.000000      1.000000       0.499900   \n",
       "25%        296.000000    787.000000    280.000000       2.563400   \n",
       "50%        435.000000   1166.000000    409.000000       3.534800   \n",
       "75%        647.000000   1725.000000    605.000000       4.743250   \n",
       "max       6445.000000  35682.000000   6082.000000      15.000100   \n",
       "\n",
       "       median_house_value  rooms_per_household  bedrooms_per_room  \\\n",
       "count        20640.000000         20640.000000       20433.000000   \n",
       "mean        206855.816909             5.429000           0.213039   \n",
       "std         115395.615874             2.474173           0.057983   \n",
       "min          14999.000000             0.846154           0.100000   \n",
       "25%         119600.000000             4.440716           0.175427   \n",
       "50%         179700.000000             5.229129           0.203162   \n",
       "75%         264725.000000             6.052381           0.239821   \n",
       "max         500001.000000           141.909091           1.000000   \n",
       "\n",
       "       population_per_household  \n",
       "count              20640.000000  \n",
       "mean                   3.070655  \n",
       "std                   10.386050  \n",
       "min                    0.692308  \n",
       "25%                    2.429741  \n",
       "50%                    2.818116  \n",
       "75%                    3.282261  \n",
       "max                 1243.333333  "
      ]
     },
     "execution_count": 211,
     "metadata": {},
     "output_type": "execute_result"
    }
   ],
   "source": [
    "housing.describe()"
   ]
  },
  {
   "cell_type": "markdown",
   "id": "246579e4",
   "metadata": {},
   "source": [
    "### Preparing data for Machine Learning Algorithms"
   ]
  },
  {
   "cell_type": "code",
   "execution_count": 212,
   "id": "ec16e1ff",
   "metadata": {},
   "outputs": [
    {
     "data": {
      "text/html": [
       "<div>\n",
       "<style scoped>\n",
       "    .dataframe tbody tr th:only-of-type {\n",
       "        vertical-align: middle;\n",
       "    }\n",
       "\n",
       "    .dataframe tbody tr th {\n",
       "        vertical-align: top;\n",
       "    }\n",
       "\n",
       "    .dataframe thead th {\n",
       "        text-align: right;\n",
       "    }\n",
       "</style>\n",
       "<table border=\"1\" class=\"dataframe\">\n",
       "  <thead>\n",
       "    <tr style=\"text-align: right;\">\n",
       "      <th></th>\n",
       "      <th>longitude</th>\n",
       "      <th>latitude</th>\n",
       "      <th>housing_median_age</th>\n",
       "      <th>total_rooms</th>\n",
       "      <th>total_bedrooms</th>\n",
       "      <th>population</th>\n",
       "      <th>households</th>\n",
       "      <th>median_income</th>\n",
       "      <th>median_house_value</th>\n",
       "      <th>ocean_proximity</th>\n",
       "      <th>income_cat</th>\n",
       "    </tr>\n",
       "  </thead>\n",
       "  <tbody>\n",
       "    <tr>\n",
       "      <th>17606</th>\n",
       "      <td>-121.89</td>\n",
       "      <td>37.29</td>\n",
       "      <td>38.0</td>\n",
       "      <td>1568.0</td>\n",
       "      <td>351.0</td>\n",
       "      <td>710.0</td>\n",
       "      <td>339.0</td>\n",
       "      <td>2.7042</td>\n",
       "      <td>286600.0</td>\n",
       "      <td>&lt;1H OCEAN</td>\n",
       "      <td>2</td>\n",
       "    </tr>\n",
       "    <tr>\n",
       "      <th>18632</th>\n",
       "      <td>-121.93</td>\n",
       "      <td>37.05</td>\n",
       "      <td>14.0</td>\n",
       "      <td>679.0</td>\n",
       "      <td>108.0</td>\n",
       "      <td>306.0</td>\n",
       "      <td>113.0</td>\n",
       "      <td>6.4214</td>\n",
       "      <td>340600.0</td>\n",
       "      <td>&lt;1H OCEAN</td>\n",
       "      <td>5</td>\n",
       "    </tr>\n",
       "    <tr>\n",
       "      <th>14650</th>\n",
       "      <td>-117.20</td>\n",
       "      <td>32.77</td>\n",
       "      <td>31.0</td>\n",
       "      <td>1952.0</td>\n",
       "      <td>471.0</td>\n",
       "      <td>936.0</td>\n",
       "      <td>462.0</td>\n",
       "      <td>2.8621</td>\n",
       "      <td>196900.0</td>\n",
       "      <td>NEAR OCEAN</td>\n",
       "      <td>2</td>\n",
       "    </tr>\n",
       "    <tr>\n",
       "      <th>3230</th>\n",
       "      <td>-119.61</td>\n",
       "      <td>36.31</td>\n",
       "      <td>25.0</td>\n",
       "      <td>1847.0</td>\n",
       "      <td>371.0</td>\n",
       "      <td>1460.0</td>\n",
       "      <td>353.0</td>\n",
       "      <td>1.8839</td>\n",
       "      <td>46300.0</td>\n",
       "      <td>INLAND</td>\n",
       "      <td>2</td>\n",
       "    </tr>\n",
       "    <tr>\n",
       "      <th>3555</th>\n",
       "      <td>-118.59</td>\n",
       "      <td>34.23</td>\n",
       "      <td>17.0</td>\n",
       "      <td>6592.0</td>\n",
       "      <td>1525.0</td>\n",
       "      <td>4459.0</td>\n",
       "      <td>1463.0</td>\n",
       "      <td>3.0347</td>\n",
       "      <td>254500.0</td>\n",
       "      <td>&lt;1H OCEAN</td>\n",
       "      <td>3</td>\n",
       "    </tr>\n",
       "  </tbody>\n",
       "</table>\n",
       "</div>"
      ],
      "text/plain": [
       "       longitude  latitude  housing_median_age  total_rooms  total_bedrooms  \\\n",
       "17606    -121.89     37.29                38.0       1568.0           351.0   \n",
       "18632    -121.93     37.05                14.0        679.0           108.0   \n",
       "14650    -117.20     32.77                31.0       1952.0           471.0   \n",
       "3230     -119.61     36.31                25.0       1847.0           371.0   \n",
       "3555     -118.59     34.23                17.0       6592.0          1525.0   \n",
       "\n",
       "       population  households  median_income  median_house_value  \\\n",
       "17606       710.0       339.0         2.7042            286600.0   \n",
       "18632       306.0       113.0         6.4214            340600.0   \n",
       "14650       936.0       462.0         2.8621            196900.0   \n",
       "3230       1460.0       353.0         1.8839             46300.0   \n",
       "3555       4459.0      1463.0         3.0347            254500.0   \n",
       "\n",
       "      ocean_proximity income_cat  \n",
       "17606       <1H OCEAN          2  \n",
       "18632       <1H OCEAN          5  \n",
       "14650      NEAR OCEAN          2  \n",
       "3230           INLAND          2  \n",
       "3555        <1H OCEAN          3  "
      ]
     },
     "execution_count": 212,
     "metadata": {},
     "output_type": "execute_result"
    }
   ],
   "source": [
    "strat_train_set.head()"
   ]
  },
  {
   "cell_type": "code",
   "execution_count": 213,
   "id": "e2c15722",
   "metadata": {},
   "outputs": [],
   "source": [
    "housing = strat_train_set.drop('median_house_value',axis=1)"
   ]
  },
  {
   "cell_type": "code",
   "execution_count": 214,
   "id": "80d33ce2",
   "metadata": {},
   "outputs": [
    {
     "data": {
      "text/html": [
       "<div>\n",
       "<style scoped>\n",
       "    .dataframe tbody tr th:only-of-type {\n",
       "        vertical-align: middle;\n",
       "    }\n",
       "\n",
       "    .dataframe tbody tr th {\n",
       "        vertical-align: top;\n",
       "    }\n",
       "\n",
       "    .dataframe thead th {\n",
       "        text-align: right;\n",
       "    }\n",
       "</style>\n",
       "<table border=\"1\" class=\"dataframe\">\n",
       "  <thead>\n",
       "    <tr style=\"text-align: right;\">\n",
       "      <th></th>\n",
       "      <th>longitude</th>\n",
       "      <th>latitude</th>\n",
       "      <th>housing_median_age</th>\n",
       "      <th>total_rooms</th>\n",
       "      <th>total_bedrooms</th>\n",
       "      <th>population</th>\n",
       "      <th>households</th>\n",
       "      <th>median_income</th>\n",
       "      <th>ocean_proximity</th>\n",
       "      <th>income_cat</th>\n",
       "    </tr>\n",
       "  </thead>\n",
       "  <tbody>\n",
       "    <tr>\n",
       "      <th>17606</th>\n",
       "      <td>-121.89</td>\n",
       "      <td>37.29</td>\n",
       "      <td>38.0</td>\n",
       "      <td>1568.0</td>\n",
       "      <td>351.0</td>\n",
       "      <td>710.0</td>\n",
       "      <td>339.0</td>\n",
       "      <td>2.7042</td>\n",
       "      <td>&lt;1H OCEAN</td>\n",
       "      <td>2</td>\n",
       "    </tr>\n",
       "    <tr>\n",
       "      <th>18632</th>\n",
       "      <td>-121.93</td>\n",
       "      <td>37.05</td>\n",
       "      <td>14.0</td>\n",
       "      <td>679.0</td>\n",
       "      <td>108.0</td>\n",
       "      <td>306.0</td>\n",
       "      <td>113.0</td>\n",
       "      <td>6.4214</td>\n",
       "      <td>&lt;1H OCEAN</td>\n",
       "      <td>5</td>\n",
       "    </tr>\n",
       "    <tr>\n",
       "      <th>14650</th>\n",
       "      <td>-117.20</td>\n",
       "      <td>32.77</td>\n",
       "      <td>31.0</td>\n",
       "      <td>1952.0</td>\n",
       "      <td>471.0</td>\n",
       "      <td>936.0</td>\n",
       "      <td>462.0</td>\n",
       "      <td>2.8621</td>\n",
       "      <td>NEAR OCEAN</td>\n",
       "      <td>2</td>\n",
       "    </tr>\n",
       "    <tr>\n",
       "      <th>3230</th>\n",
       "      <td>-119.61</td>\n",
       "      <td>36.31</td>\n",
       "      <td>25.0</td>\n",
       "      <td>1847.0</td>\n",
       "      <td>371.0</td>\n",
       "      <td>1460.0</td>\n",
       "      <td>353.0</td>\n",
       "      <td>1.8839</td>\n",
       "      <td>INLAND</td>\n",
       "      <td>2</td>\n",
       "    </tr>\n",
       "    <tr>\n",
       "      <th>3555</th>\n",
       "      <td>-118.59</td>\n",
       "      <td>34.23</td>\n",
       "      <td>17.0</td>\n",
       "      <td>6592.0</td>\n",
       "      <td>1525.0</td>\n",
       "      <td>4459.0</td>\n",
       "      <td>1463.0</td>\n",
       "      <td>3.0347</td>\n",
       "      <td>&lt;1H OCEAN</td>\n",
       "      <td>3</td>\n",
       "    </tr>\n",
       "    <tr>\n",
       "      <th>...</th>\n",
       "      <td>...</td>\n",
       "      <td>...</td>\n",
       "      <td>...</td>\n",
       "      <td>...</td>\n",
       "      <td>...</td>\n",
       "      <td>...</td>\n",
       "      <td>...</td>\n",
       "      <td>...</td>\n",
       "      <td>...</td>\n",
       "      <td>...</td>\n",
       "    </tr>\n",
       "    <tr>\n",
       "      <th>6563</th>\n",
       "      <td>-118.13</td>\n",
       "      <td>34.20</td>\n",
       "      <td>46.0</td>\n",
       "      <td>1271.0</td>\n",
       "      <td>236.0</td>\n",
       "      <td>573.0</td>\n",
       "      <td>210.0</td>\n",
       "      <td>4.9312</td>\n",
       "      <td>INLAND</td>\n",
       "      <td>4</td>\n",
       "    </tr>\n",
       "    <tr>\n",
       "      <th>12053</th>\n",
       "      <td>-117.56</td>\n",
       "      <td>33.88</td>\n",
       "      <td>40.0</td>\n",
       "      <td>1196.0</td>\n",
       "      <td>294.0</td>\n",
       "      <td>1052.0</td>\n",
       "      <td>258.0</td>\n",
       "      <td>2.0682</td>\n",
       "      <td>INLAND</td>\n",
       "      <td>2</td>\n",
       "    </tr>\n",
       "    <tr>\n",
       "      <th>13908</th>\n",
       "      <td>-116.40</td>\n",
       "      <td>34.09</td>\n",
       "      <td>9.0</td>\n",
       "      <td>4855.0</td>\n",
       "      <td>872.0</td>\n",
       "      <td>2098.0</td>\n",
       "      <td>765.0</td>\n",
       "      <td>3.2723</td>\n",
       "      <td>INLAND</td>\n",
       "      <td>3</td>\n",
       "    </tr>\n",
       "    <tr>\n",
       "      <th>11159</th>\n",
       "      <td>-118.01</td>\n",
       "      <td>33.82</td>\n",
       "      <td>31.0</td>\n",
       "      <td>1960.0</td>\n",
       "      <td>380.0</td>\n",
       "      <td>1356.0</td>\n",
       "      <td>356.0</td>\n",
       "      <td>4.0625</td>\n",
       "      <td>&lt;1H OCEAN</td>\n",
       "      <td>3</td>\n",
       "    </tr>\n",
       "    <tr>\n",
       "      <th>15775</th>\n",
       "      <td>-122.45</td>\n",
       "      <td>37.77</td>\n",
       "      <td>52.0</td>\n",
       "      <td>3095.0</td>\n",
       "      <td>682.0</td>\n",
       "      <td>1269.0</td>\n",
       "      <td>639.0</td>\n",
       "      <td>3.5750</td>\n",
       "      <td>NEAR BAY</td>\n",
       "      <td>3</td>\n",
       "    </tr>\n",
       "  </tbody>\n",
       "</table>\n",
       "<p>16512 rows × 10 columns</p>\n",
       "</div>"
      ],
      "text/plain": [
       "       longitude  latitude  housing_median_age  total_rooms  total_bedrooms  \\\n",
       "17606    -121.89     37.29                38.0       1568.0           351.0   \n",
       "18632    -121.93     37.05                14.0        679.0           108.0   \n",
       "14650    -117.20     32.77                31.0       1952.0           471.0   \n",
       "3230     -119.61     36.31                25.0       1847.0           371.0   \n",
       "3555     -118.59     34.23                17.0       6592.0          1525.0   \n",
       "...          ...       ...                 ...          ...             ...   \n",
       "6563     -118.13     34.20                46.0       1271.0           236.0   \n",
       "12053    -117.56     33.88                40.0       1196.0           294.0   \n",
       "13908    -116.40     34.09                 9.0       4855.0           872.0   \n",
       "11159    -118.01     33.82                31.0       1960.0           380.0   \n",
       "15775    -122.45     37.77                52.0       3095.0           682.0   \n",
       "\n",
       "       population  households  median_income ocean_proximity income_cat  \n",
       "17606       710.0       339.0         2.7042       <1H OCEAN          2  \n",
       "18632       306.0       113.0         6.4214       <1H OCEAN          5  \n",
       "14650       936.0       462.0         2.8621      NEAR OCEAN          2  \n",
       "3230       1460.0       353.0         1.8839          INLAND          2  \n",
       "3555       4459.0      1463.0         3.0347       <1H OCEAN          3  \n",
       "...           ...         ...            ...             ...        ...  \n",
       "6563        573.0       210.0         4.9312          INLAND          4  \n",
       "12053      1052.0       258.0         2.0682          INLAND          2  \n",
       "13908      2098.0       765.0         3.2723          INLAND          3  \n",
       "11159      1356.0       356.0         4.0625       <1H OCEAN          3  \n",
       "15775      1269.0       639.0         3.5750        NEAR BAY          3  \n",
       "\n",
       "[16512 rows x 10 columns]"
      ]
     },
     "execution_count": 214,
     "metadata": {},
     "output_type": "execute_result"
    }
   ],
   "source": [
    "housing"
   ]
  },
  {
   "cell_type": "code",
   "execution_count": 215,
   "id": "2844d3ee",
   "metadata": {},
   "outputs": [],
   "source": [
    "housing_labels = strat_train_set['median_house_value'].copy()"
   ]
  },
  {
   "cell_type": "code",
   "execution_count": 216,
   "id": "8ace7419",
   "metadata": {},
   "outputs": [
    {
     "data": {
      "text/plain": [
       "17606    286600.0\n",
       "18632    340600.0\n",
       "14650    196900.0\n",
       "3230      46300.0\n",
       "3555     254500.0\n",
       "           ...   \n",
       "6563     240200.0\n",
       "12053    113000.0\n",
       "13908     97800.0\n",
       "11159    225900.0\n",
       "15775    500001.0\n",
       "Name: median_house_value, Length: 16512, dtype: float64"
      ]
     },
     "execution_count": 216,
     "metadata": {},
     "output_type": "execute_result"
    }
   ],
   "source": [
    "housing_labels"
   ]
  },
  {
   "cell_type": "code",
   "execution_count": 113,
   "id": "6534ca0a",
   "metadata": {},
   "outputs": [
    {
     "data": {
      "text/plain": [
       "433.0"
      ]
     },
     "execution_count": 113,
     "metadata": {},
     "output_type": "execute_result"
    }
   ],
   "source": [
    "median_val = housing['total_bedrooms'].median()\n",
    "median_val"
   ]
  },
  {
   "cell_type": "code",
   "execution_count": 114,
   "id": "723c79d5",
   "metadata": {},
   "outputs": [],
   "source": [
    "housing['total_bedrooms'].fillna(median_val, inplace=True)"
   ]
  },
  {
   "cell_type": "code",
   "execution_count": 115,
   "id": "3a2b6cad",
   "metadata": {},
   "outputs": [],
   "source": [
    "from sklearn.impute import SimpleImputer\n",
    "imputer = SimpleImputer(strategy = 'median')"
   ]
  },
  {
   "cell_type": "markdown",
   "id": "e09f5bb2",
   "metadata": {},
   "source": [
    "### Remove text attribute as median can only be calculated on numerical fields"
   ]
  },
  {
   "cell_type": "code",
   "execution_count": 116,
   "id": "0630b8aa",
   "metadata": {},
   "outputs": [],
   "source": [
    "housing_num = housing.drop('ocean_proximity', axis=1)"
   ]
  },
  {
   "cell_type": "code",
   "execution_count": 117,
   "id": "de186b23",
   "metadata": {},
   "outputs": [
    {
     "data": {
      "text/plain": [
       "SimpleImputer(strategy='median')"
      ]
     },
     "execution_count": 117,
     "metadata": {},
     "output_type": "execute_result"
    }
   ],
   "source": [
    "imputer.fit(housing_num)"
   ]
  },
  {
   "cell_type": "code",
   "execution_count": 118,
   "id": "1dfda33d",
   "metadata": {},
   "outputs": [
    {
     "data": {
      "text/plain": [
       "array([-118.51  ,   34.26  ,   29.    , 2119.5   ,  433.    , 1164.    ,\n",
       "        408.    ,    3.5409,    3.    ])"
      ]
     },
     "execution_count": 118,
     "metadata": {},
     "output_type": "execute_result"
    }
   ],
   "source": [
    "imputer.statistics_"
   ]
  },
  {
   "cell_type": "markdown",
   "id": "4da4494e",
   "metadata": {},
   "source": [
    "### Transform the training set "
   ]
  },
  {
   "cell_type": "code",
   "execution_count": 119,
   "id": "d3de99d9",
   "metadata": {},
   "outputs": [],
   "source": [
    "X = imputer.transform(housing_num)"
   ]
  },
  {
   "cell_type": "code",
   "execution_count": 120,
   "id": "a940e633",
   "metadata": {},
   "outputs": [],
   "source": [
    "housing_tr = pd.DataFrame(X, columns = housing_num.columns, index = housing_num.index)"
   ]
  },
  {
   "cell_type": "code",
   "execution_count": 121,
   "id": "c98f136d",
   "metadata": {},
   "outputs": [
    {
     "data": {
      "text/html": [
       "<div>\n",
       "<style scoped>\n",
       "    .dataframe tbody tr th:only-of-type {\n",
       "        vertical-align: middle;\n",
       "    }\n",
       "\n",
       "    .dataframe tbody tr th {\n",
       "        vertical-align: top;\n",
       "    }\n",
       "\n",
       "    .dataframe thead th {\n",
       "        text-align: right;\n",
       "    }\n",
       "</style>\n",
       "<table border=\"1\" class=\"dataframe\">\n",
       "  <thead>\n",
       "    <tr style=\"text-align: right;\">\n",
       "      <th></th>\n",
       "      <th>longitude</th>\n",
       "      <th>latitude</th>\n",
       "      <th>housing_median_age</th>\n",
       "      <th>total_rooms</th>\n",
       "      <th>total_bedrooms</th>\n",
       "      <th>population</th>\n",
       "      <th>households</th>\n",
       "      <th>median_income</th>\n",
       "      <th>income_cat</th>\n",
       "    </tr>\n",
       "  </thead>\n",
       "  <tbody>\n",
       "    <tr>\n",
       "      <th>17606</th>\n",
       "      <td>-121.89</td>\n",
       "      <td>37.29</td>\n",
       "      <td>38.0</td>\n",
       "      <td>1568.0</td>\n",
       "      <td>351.0</td>\n",
       "      <td>710.0</td>\n",
       "      <td>339.0</td>\n",
       "      <td>2.7042</td>\n",
       "      <td>2.0</td>\n",
       "    </tr>\n",
       "    <tr>\n",
       "      <th>18632</th>\n",
       "      <td>-121.93</td>\n",
       "      <td>37.05</td>\n",
       "      <td>14.0</td>\n",
       "      <td>679.0</td>\n",
       "      <td>108.0</td>\n",
       "      <td>306.0</td>\n",
       "      <td>113.0</td>\n",
       "      <td>6.4214</td>\n",
       "      <td>5.0</td>\n",
       "    </tr>\n",
       "    <tr>\n",
       "      <th>14650</th>\n",
       "      <td>-117.20</td>\n",
       "      <td>32.77</td>\n",
       "      <td>31.0</td>\n",
       "      <td>1952.0</td>\n",
       "      <td>471.0</td>\n",
       "      <td>936.0</td>\n",
       "      <td>462.0</td>\n",
       "      <td>2.8621</td>\n",
       "      <td>2.0</td>\n",
       "    </tr>\n",
       "    <tr>\n",
       "      <th>3230</th>\n",
       "      <td>-119.61</td>\n",
       "      <td>36.31</td>\n",
       "      <td>25.0</td>\n",
       "      <td>1847.0</td>\n",
       "      <td>371.0</td>\n",
       "      <td>1460.0</td>\n",
       "      <td>353.0</td>\n",
       "      <td>1.8839</td>\n",
       "      <td>2.0</td>\n",
       "    </tr>\n",
       "    <tr>\n",
       "      <th>3555</th>\n",
       "      <td>-118.59</td>\n",
       "      <td>34.23</td>\n",
       "      <td>17.0</td>\n",
       "      <td>6592.0</td>\n",
       "      <td>1525.0</td>\n",
       "      <td>4459.0</td>\n",
       "      <td>1463.0</td>\n",
       "      <td>3.0347</td>\n",
       "      <td>3.0</td>\n",
       "    </tr>\n",
       "  </tbody>\n",
       "</table>\n",
       "</div>"
      ],
      "text/plain": [
       "       longitude  latitude  housing_median_age  total_rooms  total_bedrooms  \\\n",
       "17606    -121.89     37.29                38.0       1568.0           351.0   \n",
       "18632    -121.93     37.05                14.0        679.0           108.0   \n",
       "14650    -117.20     32.77                31.0       1952.0           471.0   \n",
       "3230     -119.61     36.31                25.0       1847.0           371.0   \n",
       "3555     -118.59     34.23                17.0       6592.0          1525.0   \n",
       "\n",
       "       population  households  median_income  income_cat  \n",
       "17606       710.0       339.0         2.7042         2.0  \n",
       "18632       306.0       113.0         6.4214         5.0  \n",
       "14650       936.0       462.0         2.8621         2.0  \n",
       "3230       1460.0       353.0         1.8839         2.0  \n",
       "3555       4459.0      1463.0         3.0347         3.0  "
      ]
     },
     "execution_count": 121,
     "metadata": {},
     "output_type": "execute_result"
    }
   ],
   "source": [
    "housing_tr.head()"
   ]
  },
  {
   "cell_type": "markdown",
   "id": "b3b82e4d",
   "metadata": {},
   "source": [
    "### Handling Text and categorical attributes"
   ]
  },
  {
   "cell_type": "code",
   "execution_count": 122,
   "id": "05b78a30",
   "metadata": {},
   "outputs": [
    {
     "data": {
      "text/html": [
       "<div>\n",
       "<style scoped>\n",
       "    .dataframe tbody tr th:only-of-type {\n",
       "        vertical-align: middle;\n",
       "    }\n",
       "\n",
       "    .dataframe tbody tr th {\n",
       "        vertical-align: top;\n",
       "    }\n",
       "\n",
       "    .dataframe thead th {\n",
       "        text-align: right;\n",
       "    }\n",
       "</style>\n",
       "<table border=\"1\" class=\"dataframe\">\n",
       "  <thead>\n",
       "    <tr style=\"text-align: right;\">\n",
       "      <th></th>\n",
       "      <th>ocean_proximity</th>\n",
       "    </tr>\n",
       "  </thead>\n",
       "  <tbody>\n",
       "    <tr>\n",
       "      <th>17606</th>\n",
       "      <td>&lt;1H OCEAN</td>\n",
       "    </tr>\n",
       "    <tr>\n",
       "      <th>18632</th>\n",
       "      <td>&lt;1H OCEAN</td>\n",
       "    </tr>\n",
       "    <tr>\n",
       "      <th>14650</th>\n",
       "      <td>NEAR OCEAN</td>\n",
       "    </tr>\n",
       "    <tr>\n",
       "      <th>3230</th>\n",
       "      <td>INLAND</td>\n",
       "    </tr>\n",
       "    <tr>\n",
       "      <th>3555</th>\n",
       "      <td>&lt;1H OCEAN</td>\n",
       "    </tr>\n",
       "    <tr>\n",
       "      <th>19480</th>\n",
       "      <td>INLAND</td>\n",
       "    </tr>\n",
       "    <tr>\n",
       "      <th>8879</th>\n",
       "      <td>&lt;1H OCEAN</td>\n",
       "    </tr>\n",
       "    <tr>\n",
       "      <th>13685</th>\n",
       "      <td>INLAND</td>\n",
       "    </tr>\n",
       "    <tr>\n",
       "      <th>4937</th>\n",
       "      <td>&lt;1H OCEAN</td>\n",
       "    </tr>\n",
       "    <tr>\n",
       "      <th>4861</th>\n",
       "      <td>&lt;1H OCEAN</td>\n",
       "    </tr>\n",
       "  </tbody>\n",
       "</table>\n",
       "</div>"
      ],
      "text/plain": [
       "      ocean_proximity\n",
       "17606       <1H OCEAN\n",
       "18632       <1H OCEAN\n",
       "14650      NEAR OCEAN\n",
       "3230           INLAND\n",
       "3555        <1H OCEAN\n",
       "19480          INLAND\n",
       "8879        <1H OCEAN\n",
       "13685          INLAND\n",
       "4937        <1H OCEAN\n",
       "4861        <1H OCEAN"
      ]
     },
     "execution_count": 122,
     "metadata": {},
     "output_type": "execute_result"
    }
   ],
   "source": [
    "housing_cat = housing[['ocean_proximity']]\n",
    "housing_cat.head(10)"
   ]
  },
  {
   "cell_type": "code",
   "execution_count": 123,
   "id": "37c09aa8",
   "metadata": {},
   "outputs": [
    {
     "data": {
      "text/plain": [
       "array([[0.],\n",
       "       [0.],\n",
       "       [4.],\n",
       "       [1.],\n",
       "       [0.],\n",
       "       [1.],\n",
       "       [0.],\n",
       "       [1.],\n",
       "       [0.],\n",
       "       [0.]])"
      ]
     },
     "execution_count": 123,
     "metadata": {},
     "output_type": "execute_result"
    }
   ],
   "source": [
    "from sklearn.preprocessing import OrdinalEncoder\n",
    "\n",
    "ordinal_encoder = OrdinalEncoder()\n",
    "housing_cat_encoded = ordinal_encoder.fit_transform(housing_cat)\n",
    "housing_cat_encoded[:10]"
   ]
  },
  {
   "cell_type": "code",
   "execution_count": 124,
   "id": "2e176bf4",
   "metadata": {},
   "outputs": [
    {
     "data": {
      "text/plain": [
       "[array(['<1H OCEAN', 'INLAND', 'ISLAND', 'NEAR BAY', 'NEAR OCEAN'],\n",
       "       dtype=object)]"
      ]
     },
     "execution_count": 124,
     "metadata": {},
     "output_type": "execute_result"
    }
   ],
   "source": [
    "ordinal_encoder.categories_"
   ]
  },
  {
   "cell_type": "code",
   "execution_count": 125,
   "id": "81c69479",
   "metadata": {},
   "outputs": [
    {
     "data": {
      "text/plain": [
       "<16512x5 sparse matrix of type '<class 'numpy.float64'>'\n",
       "\twith 16512 stored elements in Compressed Sparse Row format>"
      ]
     },
     "execution_count": 125,
     "metadata": {},
     "output_type": "execute_result"
    }
   ],
   "source": [
    "from sklearn.preprocessing import OneHotEncoder\n",
    "\n",
    "cat_encoder = OneHotEncoder()\n",
    "housing_cat_1hot = cat_encoder.fit_transform(housing_cat)\n",
    "housing_cat_1hot"
   ]
  },
  {
   "cell_type": "code",
   "execution_count": 126,
   "id": "38bb739f",
   "metadata": {},
   "outputs": [
    {
     "data": {
      "text/plain": [
       "array([[1., 0., 0., 0., 0.],\n",
       "       [1., 0., 0., 0., 0.],\n",
       "       [0., 0., 0., 0., 1.],\n",
       "       ...,\n",
       "       [0., 1., 0., 0., 0.],\n",
       "       [1., 0., 0., 0., 0.],\n",
       "       [0., 0., 0., 1., 0.]])"
      ]
     },
     "execution_count": 126,
     "metadata": {},
     "output_type": "execute_result"
    }
   ],
   "source": [
    "housing_cat_1hot.toarray()"
   ]
  },
  {
   "cell_type": "code",
   "execution_count": 127,
   "id": "ad1bfe57",
   "metadata": {},
   "outputs": [
    {
     "data": {
      "text/plain": [
       "[array(['<1H OCEAN', 'INLAND', 'ISLAND', 'NEAR BAY', 'NEAR OCEAN'],\n",
       "       dtype=object)]"
      ]
     },
     "execution_count": 127,
     "metadata": {},
     "output_type": "execute_result"
    }
   ],
   "source": [
    "cat_encoder.categories_"
   ]
  },
  {
   "cell_type": "markdown",
   "id": "24100f2e",
   "metadata": {},
   "source": [
    "### Custom Transformers"
   ]
  },
  {
   "cell_type": "code",
   "execution_count": 128,
   "id": "050cb338",
   "metadata": {},
   "outputs": [],
   "source": [
    "from sklearn.base import BaseEstimator, TransformerMixin\n",
    "\n",
    "# column index\n",
    "rooms_ix, bedrooms_ix, population_ix, households_ix = 3, 4, 5, 6\n",
    "\n",
    "class CombinedAttributesAdder(BaseEstimator, TransformerMixin):\n",
    "    def __init__(self, add_bedrooms_per_room=True): # no *args or **kargs\n",
    "        self.add_bedrooms_per_room = add_bedrooms_per_room\n",
    "    def fit(self, X, y=None):\n",
    "        return self  # nothing else to do\n",
    "    def transform(self, X):\n",
    "        rooms_per_household = X[:, rooms_ix] / X[:, households_ix]\n",
    "        population_per_household = X[:, population_ix] / X[:, households_ix]\n",
    "        if self.add_bedrooms_per_room:\n",
    "            bedrooms_per_room = X[:, bedrooms_ix] / X[:, rooms_ix]\n",
    "            return np.c_[X, rooms_per_household, population_per_household,\n",
    "                         bedrooms_per_room]\n",
    "        else:\n",
    "            return np.c_[X, rooms_per_household, population_per_household]\n",
    "\n",
    "attr_adder = CombinedAttributesAdder(add_bedrooms_per_room=False)\n",
    "housing_extra_attribs = attr_adder.transform(housing.values)"
   ]
  },
  {
   "cell_type": "code",
   "execution_count": 129,
   "id": "8112ecd2",
   "metadata": {},
   "outputs": [
    {
     "data": {
      "text/html": [
       "<div>\n",
       "<style scoped>\n",
       "    .dataframe tbody tr th:only-of-type {\n",
       "        vertical-align: middle;\n",
       "    }\n",
       "\n",
       "    .dataframe tbody tr th {\n",
       "        vertical-align: top;\n",
       "    }\n",
       "\n",
       "    .dataframe thead th {\n",
       "        text-align: right;\n",
       "    }\n",
       "</style>\n",
       "<table border=\"1\" class=\"dataframe\">\n",
       "  <thead>\n",
       "    <tr style=\"text-align: right;\">\n",
       "      <th></th>\n",
       "      <th>longitude</th>\n",
       "      <th>latitude</th>\n",
       "      <th>housing_median_age</th>\n",
       "      <th>total_rooms</th>\n",
       "      <th>total_bedrooms</th>\n",
       "      <th>population</th>\n",
       "      <th>households</th>\n",
       "      <th>median_income</th>\n",
       "      <th>ocean_proximity</th>\n",
       "      <th>income_cat</th>\n",
       "      <th>rooms_per_household</th>\n",
       "      <th>population_per_household</th>\n",
       "    </tr>\n",
       "  </thead>\n",
       "  <tbody>\n",
       "    <tr>\n",
       "      <th>17606</th>\n",
       "      <td>-121.89</td>\n",
       "      <td>37.29</td>\n",
       "      <td>38.0</td>\n",
       "      <td>1568.0</td>\n",
       "      <td>351.0</td>\n",
       "      <td>710.0</td>\n",
       "      <td>339.0</td>\n",
       "      <td>2.7042</td>\n",
       "      <td>&lt;1H OCEAN</td>\n",
       "      <td>2</td>\n",
       "      <td>4.625369</td>\n",
       "      <td>2.094395</td>\n",
       "    </tr>\n",
       "    <tr>\n",
       "      <th>18632</th>\n",
       "      <td>-121.93</td>\n",
       "      <td>37.05</td>\n",
       "      <td>14.0</td>\n",
       "      <td>679.0</td>\n",
       "      <td>108.0</td>\n",
       "      <td>306.0</td>\n",
       "      <td>113.0</td>\n",
       "      <td>6.4214</td>\n",
       "      <td>&lt;1H OCEAN</td>\n",
       "      <td>5</td>\n",
       "      <td>6.00885</td>\n",
       "      <td>2.707965</td>\n",
       "    </tr>\n",
       "    <tr>\n",
       "      <th>14650</th>\n",
       "      <td>-117.2</td>\n",
       "      <td>32.77</td>\n",
       "      <td>31.0</td>\n",
       "      <td>1952.0</td>\n",
       "      <td>471.0</td>\n",
       "      <td>936.0</td>\n",
       "      <td>462.0</td>\n",
       "      <td>2.8621</td>\n",
       "      <td>NEAR OCEAN</td>\n",
       "      <td>2</td>\n",
       "      <td>4.225108</td>\n",
       "      <td>2.025974</td>\n",
       "    </tr>\n",
       "    <tr>\n",
       "      <th>3230</th>\n",
       "      <td>-119.61</td>\n",
       "      <td>36.31</td>\n",
       "      <td>25.0</td>\n",
       "      <td>1847.0</td>\n",
       "      <td>371.0</td>\n",
       "      <td>1460.0</td>\n",
       "      <td>353.0</td>\n",
       "      <td>1.8839</td>\n",
       "      <td>INLAND</td>\n",
       "      <td>2</td>\n",
       "      <td>5.232295</td>\n",
       "      <td>4.135977</td>\n",
       "    </tr>\n",
       "    <tr>\n",
       "      <th>3555</th>\n",
       "      <td>-118.59</td>\n",
       "      <td>34.23</td>\n",
       "      <td>17.0</td>\n",
       "      <td>6592.0</td>\n",
       "      <td>1525.0</td>\n",
       "      <td>4459.0</td>\n",
       "      <td>1463.0</td>\n",
       "      <td>3.0347</td>\n",
       "      <td>&lt;1H OCEAN</td>\n",
       "      <td>3</td>\n",
       "      <td>4.50581</td>\n",
       "      <td>3.047847</td>\n",
       "    </tr>\n",
       "  </tbody>\n",
       "</table>\n",
       "</div>"
      ],
      "text/plain": [
       "      longitude latitude housing_median_age total_rooms total_bedrooms  \\\n",
       "17606   -121.89    37.29               38.0      1568.0          351.0   \n",
       "18632   -121.93    37.05               14.0       679.0          108.0   \n",
       "14650    -117.2    32.77               31.0      1952.0          471.0   \n",
       "3230    -119.61    36.31               25.0      1847.0          371.0   \n",
       "3555    -118.59    34.23               17.0      6592.0         1525.0   \n",
       "\n",
       "      population households median_income ocean_proximity income_cat  \\\n",
       "17606      710.0      339.0        2.7042       <1H OCEAN          2   \n",
       "18632      306.0      113.0        6.4214       <1H OCEAN          5   \n",
       "14650      936.0      462.0        2.8621      NEAR OCEAN          2   \n",
       "3230      1460.0      353.0        1.8839          INLAND          2   \n",
       "3555      4459.0     1463.0        3.0347       <1H OCEAN          3   \n",
       "\n",
       "      rooms_per_household population_per_household  \n",
       "17606            4.625369                 2.094395  \n",
       "18632             6.00885                 2.707965  \n",
       "14650            4.225108                 2.025974  \n",
       "3230             5.232295                 4.135977  \n",
       "3555              4.50581                 3.047847  "
      ]
     },
     "execution_count": 129,
     "metadata": {},
     "output_type": "execute_result"
    }
   ],
   "source": [
    "housing_extra_attribs = pd.DataFrame(\n",
    "    housing_extra_attribs,\n",
    "    columns=list(housing.columns)+[\"rooms_per_household\", \"population_per_household\"],\n",
    "    index=housing.index)\n",
    "housing_extra_attribs.head()"
   ]
  },
  {
   "cell_type": "markdown",
   "id": "13fafbd3",
   "metadata": {},
   "source": [
    "### Transformation Pipelines"
   ]
  },
  {
   "cell_type": "code",
   "execution_count": 130,
   "id": "98ae3153",
   "metadata": {},
   "outputs": [],
   "source": [
    "from sklearn.pipeline import Pipeline\n",
    "from sklearn.preprocessing import StandardScaler\n",
    "\n",
    "num_pipeline = Pipeline([\n",
    "    ('imputer',SimpleImputer(strategy = 'median'))\n",
    "    ,('attribs_adder',CombinedAttributesAdder())\n",
    "    ,('std_scalar',StandardScaler())\n",
    "])"
   ]
  },
  {
   "cell_type": "code",
   "execution_count": 131,
   "id": "dfd72d30",
   "metadata": {},
   "outputs": [],
   "source": [
    "housing_num_tr = num_pipeline.fit_transform(housing_num)"
   ]
  },
  {
   "cell_type": "code",
   "execution_count": 132,
   "id": "26ff6b18",
   "metadata": {
    "scrolled": true
   },
   "outputs": [
    {
     "data": {
      "text/plain": [
       "array([[-1.15604281,  0.77194962,  0.74333089, ..., -0.31205452,\n",
       "        -0.08649871,  0.15531753],\n",
       "       [-1.17602483,  0.6596948 , -1.1653172 , ...,  0.21768338,\n",
       "        -0.03353391, -0.83628902],\n",
       "       [ 1.18684903, -1.34218285,  0.18664186, ..., -0.46531516,\n",
       "        -0.09240499,  0.4222004 ],\n",
       "       ...,\n",
       "       [ 1.58648943, -0.72478134, -1.56295222, ...,  0.3469342 ,\n",
       "        -0.03055414, -0.52177644],\n",
       "       [ 0.78221312, -0.85106801,  0.18664186, ...,  0.02499488,\n",
       "         0.06150916, -0.30340741],\n",
       "       [-1.43579109,  0.99645926,  1.85670895, ..., -0.22852947,\n",
       "        -0.09586294,  0.10180567]])"
      ]
     },
     "execution_count": 132,
     "metadata": {},
     "output_type": "execute_result"
    }
   ],
   "source": [
    "housing_num_tr"
   ]
  },
  {
   "cell_type": "code",
   "execution_count": 133,
   "id": "b149ce4a",
   "metadata": {},
   "outputs": [],
   "source": [
    "from sklearn.compose import ColumnTransformer\n",
    "num_attribs = list(housing_num)\n",
    "cat_attribs = ['ocean_proximity']\n",
    "\n",
    "full_pipeline = ColumnTransformer([\n",
    "    ('num',num_pipeline, num_attribs)\n",
    "    ,('cat',OneHotEncoder(),cat_attribs)\n",
    ",])\n",
    "housing_prepared = full_pipeline.fit_transform(housing)"
   ]
  },
  {
   "cell_type": "code",
   "execution_count": 134,
   "id": "5f10cbfb",
   "metadata": {},
   "outputs": [
    {
     "data": {
      "text/plain": [
       "array([[-1.15604281,  0.77194962,  0.74333089, ...,  0.        ,\n",
       "         0.        ,  0.        ],\n",
       "       [-1.17602483,  0.6596948 , -1.1653172 , ...,  0.        ,\n",
       "         0.        ,  0.        ],\n",
       "       [ 1.18684903, -1.34218285,  0.18664186, ...,  0.        ,\n",
       "         0.        ,  1.        ],\n",
       "       ...,\n",
       "       [ 1.58648943, -0.72478134, -1.56295222, ...,  0.        ,\n",
       "         0.        ,  0.        ],\n",
       "       [ 0.78221312, -0.85106801,  0.18664186, ...,  0.        ,\n",
       "         0.        ,  0.        ],\n",
       "       [-1.43579109,  0.99645926,  1.85670895, ...,  0.        ,\n",
       "         1.        ,  0.        ]])"
      ]
     },
     "execution_count": 134,
     "metadata": {},
     "output_type": "execute_result"
    }
   ],
   "source": [
    "housing_prepared"
   ]
  },
  {
   "cell_type": "code",
   "execution_count": 135,
   "id": "a5789715",
   "metadata": {},
   "outputs": [
    {
     "data": {
      "text/plain": [
       "(16512, 17)"
      ]
     },
     "execution_count": 135,
     "metadata": {},
     "output_type": "execute_result"
    }
   ],
   "source": [
    "housing_prepared.shape"
   ]
  },
  {
   "cell_type": "markdown",
   "id": "e20cc6e9",
   "metadata": {},
   "source": [
    "### Select and Train a model"
   ]
  },
  {
   "cell_type": "markdown",
   "id": "8ecd7d36",
   "metadata": {},
   "source": [
    "#### Training and evaluating on the training set"
   ]
  },
  {
   "cell_type": "code",
   "execution_count": 136,
   "id": "22923c37",
   "metadata": {},
   "outputs": [
    {
     "data": {
      "text/plain": [
       "LinearRegression()"
      ]
     },
     "execution_count": 136,
     "metadata": {},
     "output_type": "execute_result"
    }
   ],
   "source": [
    "from sklearn.linear_model import LinearRegression\n",
    "\n",
    "lin_reg = LinearRegression()\n",
    "lin_reg.fit(housing_prepared, housing_labels)"
   ]
  },
  {
   "cell_type": "code",
   "execution_count": 137,
   "id": "3dc8d3b4",
   "metadata": {},
   "outputs": [
    {
     "name": "stdout",
     "output_type": "stream",
     "text": [
      "Predictions: [203682.37379543 326371.39370781 204218.64588245  58685.4770482\n",
      " 194213.06443039]\n"
     ]
    }
   ],
   "source": [
    "some_data = housing.iloc[:5]\n",
    "some_labels = housing_labels.iloc[:5]\n",
    "some_data_prepared = full_pipeline.transform(some_data)\n",
    "\n",
    "print(\"Predictions:\", lin_reg.predict(some_data_prepared))"
   ]
  },
  {
   "cell_type": "markdown",
   "id": "a75cb9f5",
   "metadata": {},
   "source": [
    "Compare against the actual values"
   ]
  },
  {
   "cell_type": "code",
   "execution_count": 138,
   "id": "4061b9ee",
   "metadata": {},
   "outputs": [
    {
     "name": "stdout",
     "output_type": "stream",
     "text": [
      "Labels:  [286600.0, 340600.0, 196900.0, 46300.0, 254500.0]\n"
     ]
    }
   ],
   "source": [
    "print(\"Labels: \", list(some_labels))"
   ]
  },
  {
   "cell_type": "code",
   "execution_count": 139,
   "id": "8157b953",
   "metadata": {},
   "outputs": [
    {
     "data": {
      "text/plain": [
       "array([[-1.15604281,  0.77194962,  0.74333089, -0.49323393, -0.44543821,\n",
       "        -0.63621141, -0.42069842, -0.61493744, -0.95445595, -0.31205452,\n",
       "        -0.08649871,  0.15531753,  1.        ,  0.        ,  0.        ,\n",
       "         0.        ,  0.        ],\n",
       "       [-1.17602483,  0.6596948 , -1.1653172 , -0.90896655, -1.0369278 ,\n",
       "        -0.99833135, -1.02222705,  1.33645936,  1.89030518,  0.21768338,\n",
       "        -0.03353391, -0.83628902,  1.        ,  0.        ,  0.        ,\n",
       "         0.        ,  0.        ],\n",
       "       [ 1.18684903, -1.34218285,  0.18664186, -0.31365989, -0.15334458,\n",
       "        -0.43363936, -0.0933178 , -0.5320456 , -0.95445595, -0.46531516,\n",
       "        -0.09240499,  0.4222004 ,  0.        ,  0.        ,  0.        ,\n",
       "         0.        ,  1.        ],\n",
       "       [-0.01706767,  0.31357576, -0.29052016, -0.36276217, -0.39675594,\n",
       "         0.03604096, -0.38343559, -1.04556555, -0.95445595, -0.07966124,\n",
       "         0.08973561, -0.19645314,  0.        ,  1.        ,  0.        ,\n",
       "         0.        ,  0.        ],\n",
       "       [ 0.49247384, -0.65929936, -0.92673619,  1.85619316,  2.41221109,\n",
       "         2.72415407,  2.57097492, -0.44143679, -0.00620224, -0.35783383,\n",
       "        -0.00419445,  0.2699277 ,  1.        ,  0.        ,  0.        ,\n",
       "         0.        ,  0.        ]])"
      ]
     },
     "execution_count": 139,
     "metadata": {},
     "output_type": "execute_result"
    }
   ],
   "source": [
    "some_data_prepared"
   ]
  },
  {
   "cell_type": "code",
   "execution_count": 140,
   "id": "ba5dd65c",
   "metadata": {},
   "outputs": [
    {
     "data": {
      "text/plain": [
       "68376.64295459937"
      ]
     },
     "execution_count": 140,
     "metadata": {},
     "output_type": "execute_result"
    }
   ],
   "source": [
    "from sklearn.metrics import mean_squared_error\n",
    "\n",
    "housing_predictions = lin_reg.predict(housing_prepared)\n",
    "lin_rmse = mean_squared_error(housing_labels, housing_predictions , squared=False)\n",
    "#lin_rmse = np.sqrt(lin_mse)\n",
    "lin_rmse"
   ]
  },
  {
   "cell_type": "code",
   "execution_count": 141,
   "id": "1c63e8f9",
   "metadata": {},
   "outputs": [
    {
     "data": {
      "text/plain": [
       "49508.082059709115"
      ]
     },
     "execution_count": 141,
     "metadata": {},
     "output_type": "execute_result"
    }
   ],
   "source": [
    "from sklearn.metrics import mean_absolute_error\n",
    "\n",
    "lin_mae = mean_absolute_error(housing_labels, housing_predictions)\n",
    "lin_mae"
   ]
  },
  {
   "cell_type": "code",
   "execution_count": 142,
   "id": "97eee503",
   "metadata": {},
   "outputs": [
    {
     "data": {
      "text/plain": [
       "DecisionTreeRegressor(random_state=42)"
      ]
     },
     "execution_count": 142,
     "metadata": {},
     "output_type": "execute_result"
    }
   ],
   "source": [
    "from sklearn.tree import DecisionTreeRegressor\n",
    "tree_reg = DecisionTreeRegressor(random_state=42)\n",
    "tree_reg.fit(housing_prepared, housing_labels)"
   ]
  },
  {
   "cell_type": "code",
   "execution_count": 143,
   "id": "3e0068c7",
   "metadata": {},
   "outputs": [
    {
     "data": {
      "text/plain": [
       "0.0"
      ]
     },
     "execution_count": 143,
     "metadata": {},
     "output_type": "execute_result"
    }
   ],
   "source": [
    "housing_predictions = tree_reg.predict(housing_prepared)\n",
    "tree_mse = mean_squared_error(housing_labels, housing_predictions)\n",
    "tree_rmse = np.sqrt(tree_mse)\n",
    "tree_rmse"
   ]
  },
  {
   "cell_type": "markdown",
   "id": "1c9eb9ac",
   "metadata": {},
   "source": [
    "### Better Evaluation Using Cross_Validation"
   ]
  },
  {
   "cell_type": "code",
   "execution_count": 144,
   "id": "5ccd22b0",
   "metadata": {},
   "outputs": [],
   "source": [
    "from sklearn.model_selection import cross_val_score\n",
    "scores = cross_val_score(tree_reg, housing_prepared, housing_labels, scoring='neg_mean_squared_error', cv=10)\n",
    "tree_rmse_scores = np.sqrt(-scores)"
   ]
  },
  {
   "cell_type": "code",
   "execution_count": 145,
   "id": "15f69177",
   "metadata": {},
   "outputs": [
    {
     "name": "stdout",
     "output_type": "stream",
     "text": [
      "Scores: [70274.7991723  67258.3624668  71350.42593227 68882.91340979\n",
      " 70987.99296566 74177.52037059 70788.57311306 70850.53018019\n",
      " 76430.62239321 70212.6471067 ]\n",
      "Mean: 71121.4387110585\n",
      "Standard Deviation: 2434.3080046605132\n"
     ]
    }
   ],
   "source": [
    "def display_scores(scores):\n",
    "    print('Scores:',scores)\n",
    "    print('Mean:',scores.mean())\n",
    "    print('Standard Deviation:', scores.std())\n",
    "    \n",
    "display_scores(tree_rmse_scores)"
   ]
  },
  {
   "cell_type": "code",
   "execution_count": 146,
   "id": "4685d384",
   "metadata": {},
   "outputs": [
    {
     "data": {
      "text/plain": [
       "RandomForestRegressor(random_state=42)"
      ]
     },
     "execution_count": 146,
     "metadata": {},
     "output_type": "execute_result"
    }
   ],
   "source": [
    "from sklearn.ensemble import RandomForestRegressor\n",
    "\n",
    "forest_reg = RandomForestRegressor(n_estimators=100, random_state=42)\n",
    "forest_reg.fit(housing_prepared,housing_labels)"
   ]
  },
  {
   "cell_type": "code",
   "execution_count": 147,
   "id": "9c9d44cb",
   "metadata": {},
   "outputs": [
    {
     "data": {
      "text/plain": [
       "18626.45217719628"
      ]
     },
     "execution_count": 147,
     "metadata": {},
     "output_type": "execute_result"
    }
   ],
   "source": [
    "housing_predictions = forest_reg.predict(housing_prepared)\n",
    "forest_mse = mean_squared_error(housing_labels, housing_predictions)\n",
    "forest_rmse = np.sqrt(forest_mse)\n",
    "forest_rmse"
   ]
  },
  {
   "cell_type": "code",
   "execution_count": 148,
   "id": "026a7ebc",
   "metadata": {},
   "outputs": [
    {
     "name": "stdout",
     "output_type": "stream",
     "text": [
      "Scores: [49633.454487   47565.18736589 50034.52343496 52444.25008076\n",
      " 49463.18392461 53515.10766804 48577.59023701 47678.90315126\n",
      " 53433.75372939 49947.64462367]\n",
      "Mean: 50229.359870258486\n",
      "Standard Deviation: 2082.3174179664184\n"
     ]
    }
   ],
   "source": [
    "from sklearn.model_selection import cross_val_score\n",
    "\n",
    "forest_scores = cross_val_score(forest_reg, housing_prepared, housing_labels, scoring='neg_mean_squared_error', cv=10)\n",
    "forest_rmse_scores = np.sqrt(-forest_scores)\n",
    "display_scores(forest_rmse_scores)"
   ]
  },
  {
   "cell_type": "markdown",
   "id": "2223cabf",
   "metadata": {},
   "source": [
    "###### Steps \n",
    "###### Declare the instance of a model\n",
    "###### use the fit method on the instance variable\n",
    "###### find out the predictions using the predict method on the model instance variable.\n",
    "###### Use the predictions (and the labels) and find the mean squared error and root mean squared error.\n",
    "\n",
    "###### from the model_selction import the cross_val_score\n",
    "###### find the cross_val_score using the model instance variable dataset, label and scoring method and cross fold split.\n",
    "###### finally display the scores from the cross_val_score function."
   ]
  },
  {
   "cell_type": "code",
   "execution_count": 149,
   "id": "68300a65",
   "metadata": {},
   "outputs": [
    {
     "data": {
      "text/plain": [
       "count       10.000000\n",
       "mean     68828.999484\n",
       "std       2806.797143\n",
       "min      64782.658966\n",
       "25%      67078.972952\n",
       "50%      67699.468929\n",
       "75%      70954.281428\n",
       "max      74179.947994\n",
       "dtype: float64"
      ]
     },
     "execution_count": 149,
     "metadata": {},
     "output_type": "execute_result"
    }
   ],
   "source": [
    "scores = cross_val_score(lin_reg, housing_prepared, housing_labels, scoring='neg_mean_squared_error', cv=10)\n",
    "pd.Series(np.sqrt(-scores)).describe()"
   ]
  },
  {
   "cell_type": "code",
   "execution_count": 150,
   "id": "c6ca66a1",
   "metadata": {},
   "outputs": [
    {
     "data": {
      "text/plain": [
       "106874.50415237379"
      ]
     },
     "execution_count": 150,
     "metadata": {},
     "output_type": "execute_result"
    }
   ],
   "source": [
    "from sklearn.svm import SVR\n",
    "\n",
    "svm_reg = SVR(kernel='linear')\n",
    "svm_reg.fit(housing_prepared, housing_labels)\n",
    "housing_predictions = svm_reg.predict(housing_prepared)\n",
    "svm_mse = mean_squared_error(housing_labels, housing_predictions)\n",
    "svm_rmse = np.sqrt(svm_mse)\n",
    "svm_rmse"
   ]
  },
  {
   "cell_type": "markdown",
   "id": "bf0429a7",
   "metadata": {},
   "source": [
    "### Fine-Tune the model"
   ]
  },
  {
   "cell_type": "markdown",
   "id": "67793700",
   "metadata": {},
   "source": [
    "### Grid Search"
   ]
  },
  {
   "cell_type": "code",
   "execution_count": 151,
   "id": "01c79d7d",
   "metadata": {},
   "outputs": [
    {
     "data": {
      "text/plain": [
       "GridSearchCV(cv=5, estimator=RandomForestRegressor(random_state=42),\n",
       "             param_grid=[{'max_features': [2, 4, 6, 8],\n",
       "                          'n_estimators': [3, 10, 30]},\n",
       "                         {'bootstrap': [False], 'max_features': [2, 3, 4],\n",
       "                          'n_estimators': [3, 10]}],\n",
       "             return_train_score=True, scoring='neg_mean_squared_error')"
      ]
     },
     "execution_count": 151,
     "metadata": {},
     "output_type": "execute_result"
    }
   ],
   "source": [
    "from sklearn.model_selection import GridSearchCV\n",
    "\n",
    "param_grid = [\n",
    "    {'n_estimators': [3,10,30], 'max_features': [2,4,6,8]},\n",
    "    {'bootstrap':[False], 'n_estimators': [3,10], 'max_features': [2,3,4]},\n",
    "]\n",
    "\n",
    "forest_reg = RandomForestRegressor(random_state=42)\n",
    "\n",
    "grid_search = GridSearchCV(forest_reg,param_grid,cv=5,\n",
    "                          scoring = 'neg_mean_squared_error',\n",
    "                          return_train_score = True)\n",
    "grid_search.fit(housing_prepared, housing_labels)"
   ]
  },
  {
   "cell_type": "code",
   "execution_count": 152,
   "id": "e61c8368",
   "metadata": {},
   "outputs": [
    {
     "data": {
      "text/plain": [
       "{'max_features': 6, 'n_estimators': 30}"
      ]
     },
     "execution_count": 152,
     "metadata": {},
     "output_type": "execute_result"
    }
   ],
   "source": [
    "grid_search.best_params_"
   ]
  },
  {
   "cell_type": "code",
   "execution_count": 153,
   "id": "a2cd4bd0",
   "metadata": {},
   "outputs": [
    {
     "data": {
      "text/plain": [
       "RandomForestRegressor(max_features=6, n_estimators=30, random_state=42)"
      ]
     },
     "execution_count": 153,
     "metadata": {},
     "output_type": "execute_result"
    }
   ],
   "source": [
    "grid_search.best_estimator_"
   ]
  },
  {
   "cell_type": "code",
   "execution_count": 154,
   "id": "25acf703",
   "metadata": {},
   "outputs": [
    {
     "name": "stdout",
     "output_type": "stream",
     "text": [
      "64246.880700613496 {'max_features': 2, 'n_estimators': 3}\n",
      "55869.85367924813 {'max_features': 2, 'n_estimators': 10}\n",
      "53472.1282558969 {'max_features': 2, 'n_estimators': 30}\n",
      "61376.36445082522 {'max_features': 4, 'n_estimators': 3}\n",
      "53846.329115303764 {'max_features': 4, 'n_estimators': 10}\n",
      "51270.1941502407 {'max_features': 4, 'n_estimators': 30}\n",
      "59860.61532587693 {'max_features': 6, 'n_estimators': 3}\n",
      "53114.42460001889 {'max_features': 6, 'n_estimators': 10}\n",
      "50811.43543872171 {'max_features': 6, 'n_estimators': 30}\n",
      "59220.31563298743 {'max_features': 8, 'n_estimators': 3}\n",
      "52884.78697544277 {'max_features': 8, 'n_estimators': 10}\n",
      "50944.39369116168 {'max_features': 8, 'n_estimators': 30}\n",
      "62805.52917192821 {'bootstrap': False, 'max_features': 2, 'n_estimators': 3}\n",
      "54462.1410888642 {'bootstrap': False, 'max_features': 2, 'n_estimators': 10}\n",
      "61117.32056104296 {'bootstrap': False, 'max_features': 3, 'n_estimators': 3}\n",
      "53022.992252269294 {'bootstrap': False, 'max_features': 3, 'n_estimators': 10}\n",
      "60234.58052562756 {'bootstrap': False, 'max_features': 4, 'n_estimators': 3}\n",
      "52712.989031117104 {'bootstrap': False, 'max_features': 4, 'n_estimators': 10}\n"
     ]
    }
   ],
   "source": [
    "cvres = grid_search.cv_results_\n",
    "for mean_score, params in zip(cvres['mean_test_score'],cvres['params']):\n",
    "    print(np.sqrt(-mean_score), params)"
   ]
  },
  {
   "cell_type": "code",
   "execution_count": 155,
   "id": "4827908c",
   "metadata": {},
   "outputs": [
    {
     "data": {
      "text/html": [
       "<div>\n",
       "<style scoped>\n",
       "    .dataframe tbody tr th:only-of-type {\n",
       "        vertical-align: middle;\n",
       "    }\n",
       "\n",
       "    .dataframe tbody tr th {\n",
       "        vertical-align: top;\n",
       "    }\n",
       "\n",
       "    .dataframe thead th {\n",
       "        text-align: right;\n",
       "    }\n",
       "</style>\n",
       "<table border=\"1\" class=\"dataframe\">\n",
       "  <thead>\n",
       "    <tr style=\"text-align: right;\">\n",
       "      <th></th>\n",
       "      <th>mean_fit_time</th>\n",
       "      <th>std_fit_time</th>\n",
       "      <th>mean_score_time</th>\n",
       "      <th>std_score_time</th>\n",
       "      <th>param_max_features</th>\n",
       "      <th>param_n_estimators</th>\n",
       "      <th>param_bootstrap</th>\n",
       "      <th>params</th>\n",
       "      <th>split0_test_score</th>\n",
       "      <th>split1_test_score</th>\n",
       "      <th>...</th>\n",
       "      <th>mean_test_score</th>\n",
       "      <th>std_test_score</th>\n",
       "      <th>rank_test_score</th>\n",
       "      <th>split0_train_score</th>\n",
       "      <th>split1_train_score</th>\n",
       "      <th>split2_train_score</th>\n",
       "      <th>split3_train_score</th>\n",
       "      <th>split4_train_score</th>\n",
       "      <th>mean_train_score</th>\n",
       "      <th>std_train_score</th>\n",
       "    </tr>\n",
       "  </thead>\n",
       "  <tbody>\n",
       "    <tr>\n",
       "      <th>0</th>\n",
       "      <td>0.048161</td>\n",
       "      <td>0.002403</td>\n",
       "      <td>0.002987</td>\n",
       "      <td>0.000004</td>\n",
       "      <td>2</td>\n",
       "      <td>3</td>\n",
       "      <td>NaN</td>\n",
       "      <td>{'max_features': 2, 'n_estimators': 3}</td>\n",
       "      <td>-3.931932e+09</td>\n",
       "      <td>-4.108663e+09</td>\n",
       "      <td>...</td>\n",
       "      <td>-4.127662e+09</td>\n",
       "      <td>1.924854e+08</td>\n",
       "      <td>18</td>\n",
       "      <td>-1.114486e+09</td>\n",
       "      <td>-1.060851e+09</td>\n",
       "      <td>-1.105913e+09</td>\n",
       "      <td>-1.094676e+09</td>\n",
       "      <td>-1.133282e+09</td>\n",
       "      <td>-1.101842e+09</td>\n",
       "      <td>2.406866e+07</td>\n",
       "    </tr>\n",
       "    <tr>\n",
       "      <th>1</th>\n",
       "      <td>0.148329</td>\n",
       "      <td>0.008833</td>\n",
       "      <td>0.007335</td>\n",
       "      <td>0.000719</td>\n",
       "      <td>2</td>\n",
       "      <td>10</td>\n",
       "      <td>NaN</td>\n",
       "      <td>{'max_features': 2, 'n_estimators': 10}</td>\n",
       "      <td>-2.909367e+09</td>\n",
       "      <td>-3.120571e+09</td>\n",
       "      <td>...</td>\n",
       "      <td>-3.121441e+09</td>\n",
       "      <td>1.684421e+08</td>\n",
       "      <td>11</td>\n",
       "      <td>-5.759053e+08</td>\n",
       "      <td>-5.710866e+08</td>\n",
       "      <td>-5.772770e+08</td>\n",
       "      <td>-5.820883e+08</td>\n",
       "      <td>-5.967966e+08</td>\n",
       "      <td>-5.806308e+08</td>\n",
       "      <td>8.810527e+06</td>\n",
       "    </tr>\n",
       "    <tr>\n",
       "      <th>2</th>\n",
       "      <td>0.421833</td>\n",
       "      <td>0.014444</td>\n",
       "      <td>0.021129</td>\n",
       "      <td>0.000746</td>\n",
       "      <td>2</td>\n",
       "      <td>30</td>\n",
       "      <td>NaN</td>\n",
       "      <td>{'max_features': 2, 'n_estimators': 30}</td>\n",
       "      <td>-2.677180e+09</td>\n",
       "      <td>-2.901491e+09</td>\n",
       "      <td>...</td>\n",
       "      <td>-2.859269e+09</td>\n",
       "      <td>1.563689e+08</td>\n",
       "      <td>8</td>\n",
       "      <td>-4.385939e+08</td>\n",
       "      <td>-4.261753e+08</td>\n",
       "      <td>-4.364716e+08</td>\n",
       "      <td>-4.336798e+08</td>\n",
       "      <td>-4.521519e+08</td>\n",
       "      <td>-4.374145e+08</td>\n",
       "      <td>8.482200e+06</td>\n",
       "    </tr>\n",
       "    <tr>\n",
       "      <th>3</th>\n",
       "      <td>0.067932</td>\n",
       "      <td>0.001182</td>\n",
       "      <td>0.002792</td>\n",
       "      <td>0.000399</td>\n",
       "      <td>4</td>\n",
       "      <td>3</td>\n",
       "      <td>NaN</td>\n",
       "      <td>{'max_features': 4, 'n_estimators': 3}</td>\n",
       "      <td>-3.514530e+09</td>\n",
       "      <td>-3.714699e+09</td>\n",
       "      <td>...</td>\n",
       "      <td>-3.767058e+09</td>\n",
       "      <td>1.576876e+08</td>\n",
       "      <td>16</td>\n",
       "      <td>-9.783463e+08</td>\n",
       "      <td>-9.627673e+08</td>\n",
       "      <td>-9.841863e+08</td>\n",
       "      <td>-1.031772e+09</td>\n",
       "      <td>-1.008554e+09</td>\n",
       "      <td>-9.931251e+08</td>\n",
       "      <td>2.429626e+07</td>\n",
       "    </tr>\n",
       "    <tr>\n",
       "      <th>4</th>\n",
       "      <td>0.230899</td>\n",
       "      <td>0.009446</td>\n",
       "      <td>0.007943</td>\n",
       "      <td>0.001034</td>\n",
       "      <td>4</td>\n",
       "      <td>10</td>\n",
       "      <td>NaN</td>\n",
       "      <td>{'max_features': 4, 'n_estimators': 10}</td>\n",
       "      <td>-2.758664e+09</td>\n",
       "      <td>-2.966146e+09</td>\n",
       "      <td>...</td>\n",
       "      <td>-2.899427e+09</td>\n",
       "      <td>1.397445e+08</td>\n",
       "      <td>9</td>\n",
       "      <td>-5.340533e+08</td>\n",
       "      <td>-5.253397e+08</td>\n",
       "      <td>-5.299331e+08</td>\n",
       "      <td>-5.298511e+08</td>\n",
       "      <td>-5.321210e+08</td>\n",
       "      <td>-5.302596e+08</td>\n",
       "      <td>2.909844e+06</td>\n",
       "    </tr>\n",
       "    <tr>\n",
       "      <th>5</th>\n",
       "      <td>0.725057</td>\n",
       "      <td>0.065823</td>\n",
       "      <td>0.021268</td>\n",
       "      <td>0.001190</td>\n",
       "      <td>4</td>\n",
       "      <td>30</td>\n",
       "      <td>NaN</td>\n",
       "      <td>{'max_features': 4, 'n_estimators': 30}</td>\n",
       "      <td>-2.469417e+09</td>\n",
       "      <td>-2.730887e+09</td>\n",
       "      <td>...</td>\n",
       "      <td>-2.628633e+09</td>\n",
       "      <td>1.435127e+08</td>\n",
       "      <td>3</td>\n",
       "      <td>-4.023370e+08</td>\n",
       "      <td>-4.024745e+08</td>\n",
       "      <td>-4.028804e+08</td>\n",
       "      <td>-4.097805e+08</td>\n",
       "      <td>-4.081646e+08</td>\n",
       "      <td>-4.051274e+08</td>\n",
       "      <td>3.185886e+06</td>\n",
       "    </tr>\n",
       "    <tr>\n",
       "      <th>6</th>\n",
       "      <td>0.093521</td>\n",
       "      <td>0.002888</td>\n",
       "      <td>0.002789</td>\n",
       "      <td>0.000397</td>\n",
       "      <td>6</td>\n",
       "      <td>3</td>\n",
       "      <td>NaN</td>\n",
       "      <td>{'max_features': 6, 'n_estimators': 3}</td>\n",
       "      <td>-3.469825e+09</td>\n",
       "      <td>-3.777163e+09</td>\n",
       "      <td>...</td>\n",
       "      <td>-3.583293e+09</td>\n",
       "      <td>1.294923e+08</td>\n",
       "      <td>13</td>\n",
       "      <td>-9.272504e+08</td>\n",
       "      <td>-9.323462e+08</td>\n",
       "      <td>-9.092923e+08</td>\n",
       "      <td>-9.485986e+08</td>\n",
       "      <td>-9.375958e+08</td>\n",
       "      <td>-9.310167e+08</td>\n",
       "      <td>1.296387e+07</td>\n",
       "    </tr>\n",
       "    <tr>\n",
       "      <th>7</th>\n",
       "      <td>0.315035</td>\n",
       "      <td>0.008195</td>\n",
       "      <td>0.008677</td>\n",
       "      <td>0.001067</td>\n",
       "      <td>6</td>\n",
       "      <td>10</td>\n",
       "      <td>NaN</td>\n",
       "      <td>{'max_features': 6, 'n_estimators': 10}</td>\n",
       "      <td>-2.718094e+09</td>\n",
       "      <td>-2.860399e+09</td>\n",
       "      <td>...</td>\n",
       "      <td>-2.821142e+09</td>\n",
       "      <td>1.371676e+08</td>\n",
       "      <td>7</td>\n",
       "      <td>-5.176219e+08</td>\n",
       "      <td>-5.102643e+08</td>\n",
       "      <td>-5.036363e+08</td>\n",
       "      <td>-5.320044e+08</td>\n",
       "      <td>-5.129550e+08</td>\n",
       "      <td>-5.152964e+08</td>\n",
       "      <td>9.500832e+06</td>\n",
       "    </tr>\n",
       "    <tr>\n",
       "      <th>8</th>\n",
       "      <td>0.943856</td>\n",
       "      <td>0.038585</td>\n",
       "      <td>0.020788</td>\n",
       "      <td>0.001295</td>\n",
       "      <td>6</td>\n",
       "      <td>30</td>\n",
       "      <td>NaN</td>\n",
       "      <td>{'max_features': 6, 'n_estimators': 30}</td>\n",
       "      <td>-2.477282e+09</td>\n",
       "      <td>-2.632966e+09</td>\n",
       "      <td>...</td>\n",
       "      <td>-2.581802e+09</td>\n",
       "      <td>1.438206e+08</td>\n",
       "      <td>1</td>\n",
       "      <td>-3.969466e+08</td>\n",
       "      <td>-3.888514e+08</td>\n",
       "      <td>-3.956343e+08</td>\n",
       "      <td>-4.058589e+08</td>\n",
       "      <td>-3.912175e+08</td>\n",
       "      <td>-3.957017e+08</td>\n",
       "      <td>5.861017e+06</td>\n",
       "    </tr>\n",
       "    <tr>\n",
       "      <th>9</th>\n",
       "      <td>0.118387</td>\n",
       "      <td>0.004463</td>\n",
       "      <td>0.002987</td>\n",
       "      <td>0.000005</td>\n",
       "      <td>8</td>\n",
       "      <td>3</td>\n",
       "      <td>NaN</td>\n",
       "      <td>{'max_features': 8, 'n_estimators': 3}</td>\n",
       "      <td>-3.409629e+09</td>\n",
       "      <td>-3.627721e+09</td>\n",
       "      <td>...</td>\n",
       "      <td>-3.507046e+09</td>\n",
       "      <td>1.713356e+08</td>\n",
       "      <td>12</td>\n",
       "      <td>-9.121501e+08</td>\n",
       "      <td>-9.226590e+08</td>\n",
       "      <td>-8.740418e+08</td>\n",
       "      <td>-9.727259e+08</td>\n",
       "      <td>-8.892866e+08</td>\n",
       "      <td>-9.141727e+08</td>\n",
       "      <td>3.386559e+07</td>\n",
       "    </tr>\n",
       "    <tr>\n",
       "      <th>10</th>\n",
       "      <td>0.393362</td>\n",
       "      <td>0.023476</td>\n",
       "      <td>0.008193</td>\n",
       "      <td>0.000391</td>\n",
       "      <td>8</td>\n",
       "      <td>10</td>\n",
       "      <td>NaN</td>\n",
       "      <td>{'max_features': 8, 'n_estimators': 10}</td>\n",
       "      <td>-2.637820e+09</td>\n",
       "      <td>-2.920688e+09</td>\n",
       "      <td>...</td>\n",
       "      <td>-2.796801e+09</td>\n",
       "      <td>1.522524e+08</td>\n",
       "      <td>5</td>\n",
       "      <td>-5.215995e+08</td>\n",
       "      <td>-5.260928e+08</td>\n",
       "      <td>-4.925520e+08</td>\n",
       "      <td>-5.271685e+08</td>\n",
       "      <td>-5.086615e+08</td>\n",
       "      <td>-5.152149e+08</td>\n",
       "      <td>1.310370e+07</td>\n",
       "    </tr>\n",
       "    <tr>\n",
       "      <th>11</th>\n",
       "      <td>1.238849</td>\n",
       "      <td>0.060570</td>\n",
       "      <td>0.022428</td>\n",
       "      <td>0.001605</td>\n",
       "      <td>8</td>\n",
       "      <td>30</td>\n",
       "      <td>NaN</td>\n",
       "      <td>{'max_features': 8, 'n_estimators': 30}</td>\n",
       "      <td>-2.417068e+09</td>\n",
       "      <td>-2.704235e+09</td>\n",
       "      <td>...</td>\n",
       "      <td>-2.595331e+09</td>\n",
       "      <td>1.590898e+08</td>\n",
       "      <td>2</td>\n",
       "      <td>-3.976878e+08</td>\n",
       "      <td>-3.992145e+08</td>\n",
       "      <td>-3.905255e+08</td>\n",
       "      <td>-3.967421e+08</td>\n",
       "      <td>-3.932722e+08</td>\n",
       "      <td>-3.954884e+08</td>\n",
       "      <td>3.157049e+06</td>\n",
       "    </tr>\n",
       "    <tr>\n",
       "      <th>12</th>\n",
       "      <td>0.068189</td>\n",
       "      <td>0.002367</td>\n",
       "      <td>0.002991</td>\n",
       "      <td>0.000007</td>\n",
       "      <td>2</td>\n",
       "      <td>3</td>\n",
       "      <td>False</td>\n",
       "      <td>{'bootstrap': False, 'max_features': 2, 'n_est...</td>\n",
       "      <td>-3.776348e+09</td>\n",
       "      <td>-4.007550e+09</td>\n",
       "      <td>...</td>\n",
       "      <td>-3.944534e+09</td>\n",
       "      <td>1.773098e+08</td>\n",
       "      <td>17</td>\n",
       "      <td>-0.000000e+00</td>\n",
       "      <td>-2.843179e+01</td>\n",
       "      <td>-0.000000e+00</td>\n",
       "      <td>-0.000000e+00</td>\n",
       "      <td>-0.000000e+00</td>\n",
       "      <td>-5.686359e+00</td>\n",
       "      <td>1.137272e+01</td>\n",
       "    </tr>\n",
       "    <tr>\n",
       "      <th>13</th>\n",
       "      <td>0.213726</td>\n",
       "      <td>0.006431</td>\n",
       "      <td>0.008865</td>\n",
       "      <td>0.000793</td>\n",
       "      <td>2</td>\n",
       "      <td>10</td>\n",
       "      <td>False</td>\n",
       "      <td>{'bootstrap': False, 'max_features': 2, 'n_est...</td>\n",
       "      <td>-2.800426e+09</td>\n",
       "      <td>-2.985411e+09</td>\n",
       "      <td>...</td>\n",
       "      <td>-2.966125e+09</td>\n",
       "      <td>1.385473e+08</td>\n",
       "      <td>10</td>\n",
       "      <td>-0.000000e+00</td>\n",
       "      <td>-2.558861e+00</td>\n",
       "      <td>-4.822180e+03</td>\n",
       "      <td>-8.711582e+02</td>\n",
       "      <td>-5.676576e+03</td>\n",
       "      <td>-2.274495e+03</td>\n",
       "      <td>2.464517e+03</td>\n",
       "    </tr>\n",
       "    <tr>\n",
       "      <th>14</th>\n",
       "      <td>0.096181</td>\n",
       "      <td>0.009196</td>\n",
       "      <td>0.003588</td>\n",
       "      <td>0.000488</td>\n",
       "      <td>3</td>\n",
       "      <td>3</td>\n",
       "      <td>False</td>\n",
       "      <td>{'bootstrap': False, 'max_features': 3, 'n_est...</td>\n",
       "      <td>-3.577790e+09</td>\n",
       "      <td>-3.742428e+09</td>\n",
       "      <td>...</td>\n",
       "      <td>-3.735327e+09</td>\n",
       "      <td>1.172880e+08</td>\n",
       "      <td>15</td>\n",
       "      <td>-0.000000e+00</td>\n",
       "      <td>-0.000000e+00</td>\n",
       "      <td>-0.000000e+00</td>\n",
       "      <td>-1.076625e+01</td>\n",
       "      <td>-4.861637e+01</td>\n",
       "      <td>-1.187652e+01</td>\n",
       "      <td>1.883722e+01</td>\n",
       "    </tr>\n",
       "    <tr>\n",
       "      <th>15</th>\n",
       "      <td>0.289501</td>\n",
       "      <td>0.013416</td>\n",
       "      <td>0.008681</td>\n",
       "      <td>0.000395</td>\n",
       "      <td>3</td>\n",
       "      <td>10</td>\n",
       "      <td>False</td>\n",
       "      <td>{'bootstrap': False, 'max_features': 3, 'n_est...</td>\n",
       "      <td>-2.698069e+09</td>\n",
       "      <td>-2.810563e+09</td>\n",
       "      <td>...</td>\n",
       "      <td>-2.811438e+09</td>\n",
       "      <td>1.152570e+08</td>\n",
       "      <td>6</td>\n",
       "      <td>-2.365811e+02</td>\n",
       "      <td>-0.000000e+00</td>\n",
       "      <td>-2.365632e+02</td>\n",
       "      <td>-9.689629e-01</td>\n",
       "      <td>-4.375473e+00</td>\n",
       "      <td>-9.569775e+01</td>\n",
       "      <td>1.150327e+02</td>\n",
       "    </tr>\n",
       "    <tr>\n",
       "      <th>16</th>\n",
       "      <td>0.107005</td>\n",
       "      <td>0.001873</td>\n",
       "      <td>0.003062</td>\n",
       "      <td>0.000538</td>\n",
       "      <td>4</td>\n",
       "      <td>3</td>\n",
       "      <td>False</td>\n",
       "      <td>{'bootstrap': False, 'max_features': 4, 'n_est...</td>\n",
       "      <td>-3.477450e+09</td>\n",
       "      <td>-3.607213e+09</td>\n",
       "      <td>...</td>\n",
       "      <td>-3.628205e+09</td>\n",
       "      <td>2.005349e+08</td>\n",
       "      <td>14</td>\n",
       "      <td>-0.000000e+00</td>\n",
       "      <td>-0.000000e+00</td>\n",
       "      <td>-0.000000e+00</td>\n",
       "      <td>-0.000000e+00</td>\n",
       "      <td>-0.000000e+00</td>\n",
       "      <td>0.000000e+00</td>\n",
       "      <td>0.000000e+00</td>\n",
       "    </tr>\n",
       "    <tr>\n",
       "      <th>17</th>\n",
       "      <td>0.369785</td>\n",
       "      <td>0.015916</td>\n",
       "      <td>0.009320</td>\n",
       "      <td>0.000762</td>\n",
       "      <td>4</td>\n",
       "      <td>10</td>\n",
       "      <td>False</td>\n",
       "      <td>{'bootstrap': False, 'max_features': 4, 'n_est...</td>\n",
       "      <td>-2.629701e+09</td>\n",
       "      <td>-2.787807e+09</td>\n",
       "      <td>...</td>\n",
       "      <td>-2.778659e+09</td>\n",
       "      <td>1.429733e+08</td>\n",
       "      <td>4</td>\n",
       "      <td>-0.000000e+00</td>\n",
       "      <td>-1.832084e+00</td>\n",
       "      <td>-0.000000e+00</td>\n",
       "      <td>-0.000000e+00</td>\n",
       "      <td>-2.422407e+01</td>\n",
       "      <td>-5.211231e+00</td>\n",
       "      <td>9.532865e+00</td>\n",
       "    </tr>\n",
       "  </tbody>\n",
       "</table>\n",
       "<p>18 rows × 23 columns</p>\n",
       "</div>"
      ],
      "text/plain": [
       "    mean_fit_time  std_fit_time  mean_score_time  std_score_time  \\\n",
       "0        0.048161      0.002403         0.002987        0.000004   \n",
       "1        0.148329      0.008833         0.007335        0.000719   \n",
       "2        0.421833      0.014444         0.021129        0.000746   \n",
       "3        0.067932      0.001182         0.002792        0.000399   \n",
       "4        0.230899      0.009446         0.007943        0.001034   \n",
       "5        0.725057      0.065823         0.021268        0.001190   \n",
       "6        0.093521      0.002888         0.002789        0.000397   \n",
       "7        0.315035      0.008195         0.008677        0.001067   \n",
       "8        0.943856      0.038585         0.020788        0.001295   \n",
       "9        0.118387      0.004463         0.002987        0.000005   \n",
       "10       0.393362      0.023476         0.008193        0.000391   \n",
       "11       1.238849      0.060570         0.022428        0.001605   \n",
       "12       0.068189      0.002367         0.002991        0.000007   \n",
       "13       0.213726      0.006431         0.008865        0.000793   \n",
       "14       0.096181      0.009196         0.003588        0.000488   \n",
       "15       0.289501      0.013416         0.008681        0.000395   \n",
       "16       0.107005      0.001873         0.003062        0.000538   \n",
       "17       0.369785      0.015916         0.009320        0.000762   \n",
       "\n",
       "   param_max_features param_n_estimators param_bootstrap  \\\n",
       "0                   2                  3             NaN   \n",
       "1                   2                 10             NaN   \n",
       "2                   2                 30             NaN   \n",
       "3                   4                  3             NaN   \n",
       "4                   4                 10             NaN   \n",
       "5                   4                 30             NaN   \n",
       "6                   6                  3             NaN   \n",
       "7                   6                 10             NaN   \n",
       "8                   6                 30             NaN   \n",
       "9                   8                  3             NaN   \n",
       "10                  8                 10             NaN   \n",
       "11                  8                 30             NaN   \n",
       "12                  2                  3           False   \n",
       "13                  2                 10           False   \n",
       "14                  3                  3           False   \n",
       "15                  3                 10           False   \n",
       "16                  4                  3           False   \n",
       "17                  4                 10           False   \n",
       "\n",
       "                                               params  split0_test_score  \\\n",
       "0              {'max_features': 2, 'n_estimators': 3}      -3.931932e+09   \n",
       "1             {'max_features': 2, 'n_estimators': 10}      -2.909367e+09   \n",
       "2             {'max_features': 2, 'n_estimators': 30}      -2.677180e+09   \n",
       "3              {'max_features': 4, 'n_estimators': 3}      -3.514530e+09   \n",
       "4             {'max_features': 4, 'n_estimators': 10}      -2.758664e+09   \n",
       "5             {'max_features': 4, 'n_estimators': 30}      -2.469417e+09   \n",
       "6              {'max_features': 6, 'n_estimators': 3}      -3.469825e+09   \n",
       "7             {'max_features': 6, 'n_estimators': 10}      -2.718094e+09   \n",
       "8             {'max_features': 6, 'n_estimators': 30}      -2.477282e+09   \n",
       "9              {'max_features': 8, 'n_estimators': 3}      -3.409629e+09   \n",
       "10            {'max_features': 8, 'n_estimators': 10}      -2.637820e+09   \n",
       "11            {'max_features': 8, 'n_estimators': 30}      -2.417068e+09   \n",
       "12  {'bootstrap': False, 'max_features': 2, 'n_est...      -3.776348e+09   \n",
       "13  {'bootstrap': False, 'max_features': 2, 'n_est...      -2.800426e+09   \n",
       "14  {'bootstrap': False, 'max_features': 3, 'n_est...      -3.577790e+09   \n",
       "15  {'bootstrap': False, 'max_features': 3, 'n_est...      -2.698069e+09   \n",
       "16  {'bootstrap': False, 'max_features': 4, 'n_est...      -3.477450e+09   \n",
       "17  {'bootstrap': False, 'max_features': 4, 'n_est...      -2.629701e+09   \n",
       "\n",
       "    split1_test_score  ...  mean_test_score  std_test_score  rank_test_score  \\\n",
       "0       -4.108663e+09  ...    -4.127662e+09    1.924854e+08               18   \n",
       "1       -3.120571e+09  ...    -3.121441e+09    1.684421e+08               11   \n",
       "2       -2.901491e+09  ...    -2.859269e+09    1.563689e+08                8   \n",
       "3       -3.714699e+09  ...    -3.767058e+09    1.576876e+08               16   \n",
       "4       -2.966146e+09  ...    -2.899427e+09    1.397445e+08                9   \n",
       "5       -2.730887e+09  ...    -2.628633e+09    1.435127e+08                3   \n",
       "6       -3.777163e+09  ...    -3.583293e+09    1.294923e+08               13   \n",
       "7       -2.860399e+09  ...    -2.821142e+09    1.371676e+08                7   \n",
       "8       -2.632966e+09  ...    -2.581802e+09    1.438206e+08                1   \n",
       "9       -3.627721e+09  ...    -3.507046e+09    1.713356e+08               12   \n",
       "10      -2.920688e+09  ...    -2.796801e+09    1.522524e+08                5   \n",
       "11      -2.704235e+09  ...    -2.595331e+09    1.590898e+08                2   \n",
       "12      -4.007550e+09  ...    -3.944534e+09    1.773098e+08               17   \n",
       "13      -2.985411e+09  ...    -2.966125e+09    1.385473e+08               10   \n",
       "14      -3.742428e+09  ...    -3.735327e+09    1.172880e+08               15   \n",
       "15      -2.810563e+09  ...    -2.811438e+09    1.152570e+08                6   \n",
       "16      -3.607213e+09  ...    -3.628205e+09    2.005349e+08               14   \n",
       "17      -2.787807e+09  ...    -2.778659e+09    1.429733e+08                4   \n",
       "\n",
       "    split0_train_score  split1_train_score  split2_train_score  \\\n",
       "0        -1.114486e+09       -1.060851e+09       -1.105913e+09   \n",
       "1        -5.759053e+08       -5.710866e+08       -5.772770e+08   \n",
       "2        -4.385939e+08       -4.261753e+08       -4.364716e+08   \n",
       "3        -9.783463e+08       -9.627673e+08       -9.841863e+08   \n",
       "4        -5.340533e+08       -5.253397e+08       -5.299331e+08   \n",
       "5        -4.023370e+08       -4.024745e+08       -4.028804e+08   \n",
       "6        -9.272504e+08       -9.323462e+08       -9.092923e+08   \n",
       "7        -5.176219e+08       -5.102643e+08       -5.036363e+08   \n",
       "8        -3.969466e+08       -3.888514e+08       -3.956343e+08   \n",
       "9        -9.121501e+08       -9.226590e+08       -8.740418e+08   \n",
       "10       -5.215995e+08       -5.260928e+08       -4.925520e+08   \n",
       "11       -3.976878e+08       -3.992145e+08       -3.905255e+08   \n",
       "12       -0.000000e+00       -2.843179e+01       -0.000000e+00   \n",
       "13       -0.000000e+00       -2.558861e+00       -4.822180e+03   \n",
       "14       -0.000000e+00       -0.000000e+00       -0.000000e+00   \n",
       "15       -2.365811e+02       -0.000000e+00       -2.365632e+02   \n",
       "16       -0.000000e+00       -0.000000e+00       -0.000000e+00   \n",
       "17       -0.000000e+00       -1.832084e+00       -0.000000e+00   \n",
       "\n",
       "    split3_train_score  split4_train_score  mean_train_score  std_train_score  \n",
       "0        -1.094676e+09       -1.133282e+09     -1.101842e+09     2.406866e+07  \n",
       "1        -5.820883e+08       -5.967966e+08     -5.806308e+08     8.810527e+06  \n",
       "2        -4.336798e+08       -4.521519e+08     -4.374145e+08     8.482200e+06  \n",
       "3        -1.031772e+09       -1.008554e+09     -9.931251e+08     2.429626e+07  \n",
       "4        -5.298511e+08       -5.321210e+08     -5.302596e+08     2.909844e+06  \n",
       "5        -4.097805e+08       -4.081646e+08     -4.051274e+08     3.185886e+06  \n",
       "6        -9.485986e+08       -9.375958e+08     -9.310167e+08     1.296387e+07  \n",
       "7        -5.320044e+08       -5.129550e+08     -5.152964e+08     9.500832e+06  \n",
       "8        -4.058589e+08       -3.912175e+08     -3.957017e+08     5.861017e+06  \n",
       "9        -9.727259e+08       -8.892866e+08     -9.141727e+08     3.386559e+07  \n",
       "10       -5.271685e+08       -5.086615e+08     -5.152149e+08     1.310370e+07  \n",
       "11       -3.967421e+08       -3.932722e+08     -3.954884e+08     3.157049e+06  \n",
       "12       -0.000000e+00       -0.000000e+00     -5.686359e+00     1.137272e+01  \n",
       "13       -8.711582e+02       -5.676576e+03     -2.274495e+03     2.464517e+03  \n",
       "14       -1.076625e+01       -4.861637e+01     -1.187652e+01     1.883722e+01  \n",
       "15       -9.689629e-01       -4.375473e+00     -9.569775e+01     1.150327e+02  \n",
       "16       -0.000000e+00       -0.000000e+00      0.000000e+00     0.000000e+00  \n",
       "17       -0.000000e+00       -2.422407e+01     -5.211231e+00     9.532865e+00  \n",
       "\n",
       "[18 rows x 23 columns]"
      ]
     },
     "execution_count": 155,
     "metadata": {},
     "output_type": "execute_result"
    }
   ],
   "source": [
    "pd.DataFrame(grid_search.cv_results_)"
   ]
  },
  {
   "cell_type": "markdown",
   "id": "576f7234",
   "metadata": {},
   "source": [
    "### Randomised Search"
   ]
  },
  {
   "cell_type": "code",
   "execution_count": 156,
   "id": "f64ddf67",
   "metadata": {},
   "outputs": [
    {
     "data": {
      "text/plain": [
       "RandomizedSearchCV(cv=5, estimator=RandomForestRegressor(random_state=42),\n",
       "                   param_distributions={'max_features': <scipy.stats._distn_infrastructure.rv_frozen object at 0x000001919526F040>,\n",
       "                                        'n_estimators': <scipy.stats._distn_infrastructure.rv_frozen object at 0x000001919526A430>},\n",
       "                   random_state=42, scoring='neg_mean_squared_error')"
      ]
     },
     "execution_count": 156,
     "metadata": {},
     "output_type": "execute_result"
    }
   ],
   "source": [
    "from sklearn.model_selection import RandomizedSearchCV\n",
    "from scipy.stats import randint\n",
    "\n",
    "param_distribs = {\n",
    "    'n_estimators':randint(low=1, high=200),\n",
    "    'max_features': randint(low=1, high = 8)\n",
    "}\n",
    "\n",
    "forest_reg = RandomForestRegressor(random_state=42)\n",
    "rnd_search = RandomizedSearchCV(forest_reg, param_distributions=param_distribs, n_iter=10, cv=5, \n",
    "                               scoring = 'neg_mean_squared_error', random_state=42)\n",
    "rnd_search.fit(housing_prepared, housing_labels)"
   ]
  },
  {
   "cell_type": "code",
   "execution_count": 157,
   "id": "aa6c1c0e",
   "metadata": {},
   "outputs": [
    {
     "name": "stdout",
     "output_type": "stream",
     "text": [
      "49931.87687086762 {'max_features': 7, 'n_estimators': 180}\n",
      "52122.359500383354 {'max_features': 5, 'n_estimators': 15}\n",
      "51463.975706036916 {'max_features': 3, 'n_estimators': 72}\n",
      "51381.480933769904 {'max_features': 5, 'n_estimators': 21}\n",
      "50040.68374785571 {'max_features': 7, 'n_estimators': 122}\n",
      "51436.83595589131 {'max_features': 3, 'n_estimators': 75}\n",
      "51286.420458183085 {'max_features': 3, 'n_estimators': 88}\n",
      "50312.65330988299 {'max_features': 5, 'n_estimators': 100}\n",
      "50995.48957108733 {'max_features': 3, 'n_estimators': 150}\n",
      "65455.451908645155 {'max_features': 5, 'n_estimators': 2}\n"
     ]
    }
   ],
   "source": [
    "cvres = rnd_search.cv_results_\n",
    "for mean_score, params in zip(cvres['mean_test_score'],cvres['params']):\n",
    "    print(np.sqrt(-mean_score), params)"
   ]
  },
  {
   "cell_type": "markdown",
   "id": "e9cbed17",
   "metadata": {},
   "source": [
    "### Analyze the best models and their errors"
   ]
  },
  {
   "cell_type": "code",
   "execution_count": 158,
   "id": "a594a904",
   "metadata": {},
   "outputs": [
    {
     "data": {
      "text/plain": [
       "array([6.79326113e-02, 6.18280724e-02, 4.33395023e-02, 1.81017027e-02,\n",
       "       1.83291556e-02, 1.93269892e-02, 1.78369580e-02, 2.41360490e-01,\n",
       "       1.61976585e-01, 5.35982558e-02, 1.06273526e-01, 6.14045141e-02,\n",
       "       1.22353255e-02, 1.08821239e-01, 2.76143239e-05, 2.59938294e-03,\n",
       "       5.00807682e-03])"
      ]
     },
     "execution_count": 158,
     "metadata": {},
     "output_type": "execute_result"
    }
   ],
   "source": [
    "feature_importances = grid_search.best_estimator_.feature_importances_\n",
    "feature_importances"
   ]
  },
  {
   "cell_type": "markdown",
   "id": "60ac9b8a",
   "metadata": {},
   "source": [
    "### Evaluate your system on the test set"
   ]
  },
  {
   "cell_type": "code",
   "execution_count": 159,
   "id": "245b7eeb",
   "metadata": {},
   "outputs": [],
   "source": [
    "final_model = grid_search.best_estimator_\n",
    "\n",
    "X_test = strat_test_set.drop('median_house_value', axis=1)\n",
    "y_test = strat_test_set['median_house_value'].copy()\n",
    "\n",
    "X_test_prepared = full_pipeline.transform(X_test)\n",
    "final_predictions = final_model.predict(X_test_prepared)\n",
    "\n",
    "final_mse = mean_squared_error(y_test, final_predictions)\n",
    "final_rmse = np.sqrt(final_mse)"
   ]
  },
  {
   "cell_type": "code",
   "execution_count": 161,
   "id": "3aad82c7",
   "metadata": {},
   "outputs": [
    {
     "data": {
      "text/plain": [
       "49040.18609727207"
      ]
     },
     "execution_count": 161,
     "metadata": {},
     "output_type": "execute_result"
    }
   ],
   "source": [
    "final_rmse"
   ]
  },
  {
   "cell_type": "code",
   "execution_count": 162,
   "id": "ac6f030f",
   "metadata": {},
   "outputs": [
    {
     "data": {
      "text/plain": [
       "array([47074.19691425, 50930.341544  ])"
      ]
     },
     "execution_count": 162,
     "metadata": {},
     "output_type": "execute_result"
    }
   ],
   "source": [
    "from scipy import stats\n",
    "\n",
    "confidence = 0.95\n",
    "squared_errors = (final_predictions - y_test) ** 2\n",
    "np.sqrt(stats.t.interval(confidence, len(squared_errors)-1, loc = squared_errors.mean(),\n",
    "                        scale = stats.sem(squared_errors)))"
   ]
  },
  {
   "cell_type": "code",
   "execution_count": null,
   "id": "e94871ac",
   "metadata": {},
   "outputs": [],
   "source": []
  },
  {
   "cell_type": "code",
   "execution_count": null,
   "id": "8f20a834",
   "metadata": {},
   "outputs": [],
   "source": []
  },
  {
   "cell_type": "code",
   "execution_count": null,
   "id": "31936a90",
   "metadata": {},
   "outputs": [],
   "source": []
  },
  {
   "cell_type": "code",
   "execution_count": null,
   "id": "d0e52f16",
   "metadata": {},
   "outputs": [],
   "source": []
  },
  {
   "cell_type": "code",
   "execution_count": null,
   "id": "2f9157a7",
   "metadata": {},
   "outputs": [],
   "source": []
  }
 ],
 "metadata": {
  "kernelspec": {
   "display_name": "Python 3 (ipykernel)",
   "language": "python",
   "name": "python3"
  },
  "language_info": {
   "codemirror_mode": {
    "name": "ipython",
    "version": 3
   },
   "file_extension": ".py",
   "mimetype": "text/x-python",
   "name": "python",
   "nbconvert_exporter": "python",
   "pygments_lexer": "ipython3",
   "version": "3.9.7"
  }
 },
 "nbformat": 4,
 "nbformat_minor": 5
}
